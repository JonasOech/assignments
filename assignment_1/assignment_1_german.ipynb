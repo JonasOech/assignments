{
 "cells": [
  {
   "cell_type": "markdown",
   "id": "6b086613",
   "metadata": {},
   "source": [
    "<img src=\"images/logo.png\" width=\"200\">"
   ]
  },
  {
   "cell_type": "markdown",
   "id": "d2c5798d",
   "metadata": {},
   "source": [
    "# KogSys-KI-B - Assignment 1\n",
    "\n",
    "### Suche, Heuristische Suche\n",
    "\n",
    "_Abgabefrist: **25.05.2025**_\n",
    "\n",
    "---\n",
    "\n"
   ]
  },
  {
   "cell_type": "markdown",
   "id": "67894b6b",
   "metadata": {},
   "source": [
    "#### Abgabe Informationen"
   ]
  },
  {
   "cell_type": "markdown",
   "id": "a00385d2",
   "metadata": {},
   "source": [
    "Laden Sie Ihre Lösung über den VC-Kurs hoch. Bitte laden Sie **ein Zip-Archiv** pro Gruppe hoch. Dieses muss enthalten::\n",
    "\n",
    "- Ihre Lösung als **Notebook** (eine `.ipynb`-Datei)\n",
    "- Ein Ordner mit dem Namen **images**, der alle Ihre Bilder enthält, falls Sie welche verwendet haben (halten Sie die Bildgrößen relativ klein)\n",
    "\n",
    "Ihr Zip-Archiv sollte wie folgt benannt werden:\n",
    "\n",
    "```\n",
    "assignment_<Assignmentnummer>_solution_<Gruppennummer>.zip\n",
    "```\n",
    "\n",
    "In dieser Aufgabe können Sie insgesamt **20 Punkte** erreichen. Von diesen Punkten werden **2 Bonuspunkte** für die Prüfung wie folgt berechnet:\n",
    "\n",
    "| **Points in Assignment** | **Bonus Points for Exam** |\n",
    "| :----------------------: | :-----------------------: |\n",
    "|            20            |             2             |\n",
    "|            15            |            1.5            |\n",
    "|            10            |             1             |\n",
    "|            5             |            0.5            |"
   ]
  },
  {
   "cell_type": "markdown",
   "id": "b9474691",
   "metadata": {},
   "source": [
    "<div class='alert alert-block alert-danger'>\n",
    "\n",
    "##### **Wichtige Hinweise**\n",
    "\n",
    "1. **Diese Aufgabe wird benotet. Sie können Bonuspunkte für die Prüfung erwerben.**\n",
    "2. **Wenn offensichtlich ist, dass eine Aufgabe von einer anderen Quelle kopiert wurde und keine eigenständige Arbeit geleistet wurde, werden keine Bonuspunkte vergeben. Bitte formulieren Sie alle Antworten in Ihren eigenen Worten!**\n",
    "3. **Falls LLMs (wie ChatGPT oder Copilot) zur Erstellung Ihrer Einreichung verwendet wurden, geben Sie dies bitte gemäß den gängigen wissenschaftlichen Praktiken an. Siehe auch die [KI Policy im VC-Kurs](https://vc.uni-bamberg.de/mod/page/view.php?id=1980835)**"
   ]
  },
  {
   "cell_type": "markdown",
   "id": "254d9fb4",
   "metadata": {},
   "source": [
    "### Setup"
   ]
  },
  {
   "cell_type": "markdown",
   "id": "616af51b",
   "metadata": {},
   "source": [
    "Um euer assignment aufzusetzen, müsst ihr die notwendigen pakete installieren, welche in der Datein `requirements.txt` gelistet sind. Dies könnt ihr machen, indem ihr die folgende Zelle ausführt."
   ]
  },
  {
   "cell_type": "code",
   "execution_count": 50,
   "id": "8c0de218",
   "metadata": {},
   "outputs": [
    {
     "name": "stdout",
     "output_type": "stream",
     "text": [
      "Requirement already satisfied: numpy in c:\\users\\jonas\\appdata\\local\\programs\\python\\python312\\lib\\site-packages (from -r requirements.txt (line 1)) (2.2.6)\n",
      "Requirement already satisfied: scipy in c:\\users\\jonas\\appdata\\local\\programs\\python\\python312\\lib\\site-packages (from -r requirements.txt (line 2)) (1.15.3)\n",
      "Requirement already satisfied: pandas in c:\\users\\jonas\\appdata\\local\\programs\\python\\python312\\lib\\site-packages (from -r requirements.txt (line 3)) (2.2.3)\n",
      "Requirement already satisfied: networkx in c:\\users\\jonas\\appdata\\local\\programs\\python\\python312\\lib\\site-packages (from -r requirements.txt (line 4)) (3.4.2)\n",
      "Requirement already satisfied: matplotlib in c:\\users\\jonas\\appdata\\local\\programs\\python\\python312\\lib\\site-packages (from -r requirements.txt (line 5)) (3.10.3)\n",
      "Requirement already satisfied: python-dateutil>=2.8.2 in c:\\users\\jonas\\appdata\\roaming\\python\\python312\\site-packages (from pandas->-r requirements.txt (line 3)) (2.9.0.post0)\n",
      "Requirement already satisfied: pytz>=2020.1 in c:\\users\\jonas\\appdata\\local\\programs\\python\\python312\\lib\\site-packages (from pandas->-r requirements.txt (line 3)) (2025.2)\n",
      "Requirement already satisfied: tzdata>=2022.7 in c:\\users\\jonas\\appdata\\local\\programs\\python\\python312\\lib\\site-packages (from pandas->-r requirements.txt (line 3)) (2025.2)\n",
      "Requirement already satisfied: contourpy>=1.0.1 in c:\\users\\jonas\\appdata\\local\\programs\\python\\python312\\lib\\site-packages (from matplotlib->-r requirements.txt (line 5)) (1.3.2)\n",
      "Requirement already satisfied: cycler>=0.10 in c:\\users\\jonas\\appdata\\local\\programs\\python\\python312\\lib\\site-packages (from matplotlib->-r requirements.txt (line 5)) (0.12.1)\n",
      "Requirement already satisfied: fonttools>=4.22.0 in c:\\users\\jonas\\appdata\\local\\programs\\python\\python312\\lib\\site-packages (from matplotlib->-r requirements.txt (line 5)) (4.58.0)\n",
      "Requirement already satisfied: kiwisolver>=1.3.1 in c:\\users\\jonas\\appdata\\local\\programs\\python\\python312\\lib\\site-packages (from matplotlib->-r requirements.txt (line 5)) (1.4.8)\n",
      "Requirement already satisfied: packaging>=20.0 in c:\\users\\jonas\\appdata\\roaming\\python\\python312\\site-packages (from matplotlib->-r requirements.txt (line 5)) (25.0)\n",
      "Requirement already satisfied: pillow>=8 in c:\\users\\jonas\\appdata\\local\\programs\\python\\python312\\lib\\site-packages (from matplotlib->-r requirements.txt (line 5)) (11.1.0)\n",
      "Requirement already satisfied: pyparsing>=2.3.1 in c:\\users\\jonas\\appdata\\local\\programs\\python\\python312\\lib\\site-packages (from matplotlib->-r requirements.txt (line 5)) (3.2.3)\n",
      "Requirement already satisfied: six>=1.5 in c:\\users\\jonas\\appdata\\roaming\\python\\python312\\site-packages (from python-dateutil>=2.8.2->pandas->-r requirements.txt (line 3)) (1.17.0)\n",
      "Note: you may need to restart the kernel to use updated packages.\n"
     ]
    },
    {
     "name": "stderr",
     "output_type": "stream",
     "text": [
      "\n",
      "[notice] A new release of pip is available: 25.0 -> 25.1.1\n",
      "[notice] To update, run: python.exe -m pip install --upgrade pip\n"
     ]
    }
   ],
   "source": [
    "# Installiert die benötigten Pakete mit dem akutell ausgewählten Python-Interpreter\n",
    "%pip install -U -r requirements.txt"
   ]
  },
  {
   "cell_type": "markdown",
   "id": "6abe986e",
   "metadata": {},
   "source": [
    "### Bibliotheks-Imports"
   ]
  },
  {
   "cell_type": "markdown",
   "id": "b50d402e",
   "metadata": {},
   "source": [
    "**_Import von Bibliotheken._** In der folgenden Zelle werden einige wichtige Bibliotheken importiert. Dies soll hier kurz erläutert werden. Verwenden Sie keine anderen Drittanbieterbibliotheken.\n",
    "\n",
    "- `typing.Any` und `typing.Callable`: Wird für Typanmerkungen in den Methodenspezifikationen benötigt.\n",
    "- `pathlib.Path`. Objektorientierte und platformunabhängige Darstellung von Dateipfaden.\n",
    "- `math`. Verschiedene Mathematische Funktionen wie _sqrt_ oder _sin_.\n",
    "- `dataclasses.dataclass`. Einfache Erstellung von Immuatablen Klassen.\n",
    "- `random`: Dies Bibliothek wird als Zufallsgenerator verwendet, und um _Seeds_ festzulegen, damit die Ergebnisse konsistent gehalten werden.\n",
    "- `pandas` und `numpy`: Ihr dürf numpy und DataFrames von pandas verwenden um Datensätze zu laden und anzupassen.\n",
    "- `networkx`: Diese Bibliothek wird verwendet, um Graph-Netzwerke zu speichern.\n",
    "- `matplotlib.pyplot`: Diese Bibliothek wird verwendet, um Bilder der Grafiken anzuzeigen.\n",
    "\n",
    "**_In der nächsten Codezelle muss nichts geändert werden._**"
   ]
  },
  {
   "cell_type": "code",
   "execution_count": 51,
   "id": "e0544094",
   "metadata": {},
   "outputs": [
    {
     "name": "stdout",
     "output_type": "stream",
     "text": [
      "Random seed set to 2025\n"
     ]
    }
   ],
   "source": [
    "# Python Core libraries\n",
    "from typing import Any, Callable\n",
    "from pathlib import Path\n",
    "import math\n",
    "import random\n",
    "from dataclasses import dataclass\n",
    "\n",
    "# Allowed Third-party libraries\n",
    "import numpy as np\n",
    "import pandas as pd\n",
    "import networkx as nx\n",
    "import matplotlib.pyplot as plt\n",
    "from datetime import datetime\n",
    "\n",
    "random.seed(2025)\n",
    "print(\"Random seed set to 2025\") #test"
   ]
  },
  {
   "cell_type": "markdown",
   "id": "2cf026bd",
   "metadata": {},
   "source": [
    "## Aufgabe 1 | Suche\n",
    "\n",
    "_Für insgesamt 8 Punkte_\n",
    "\n",
    "Sie erhalten ein Fluss-Netzwerk, das das Rohrsystem einer Stadt darstellt. Jede Kante des Graphen hat eine Kapazität, die die maximale Wassermenge angibt, die pro Minute durch dieses Rohr fließen kann. Es gibt eine `source` (Quelle, Knoten mit Index 0) und ein `target` (Senke, Knoten mit Index 9).\n",
    "\n",
    "---\n",
    "\n",
    "<details>\n",
    "<summary><strong>Tipp:</strong> Auf die Knoten und Kanten des Graphen in networkx zugreifen</summary>\n",
    "\n",
    "[Die Dokumentation ist hier zu finden.](https://networkx.org/documentation/stable/tutorial.html)\n",
    "\n",
    "**Alle Daten auslesen**\n",
    "```python\n",
    "# Die Knoten auslesen\n",
    "> list(G.nodes)\n",
    "[0,1,2,3,4,5,6,7,8,9,10]\n",
    "# Die Kanten auslesen\n",
    "> list(G.edges)\n",
    "[(0, 1),\n",
    " (0, 2),\n",
    " (1, 9),\n",
    " ...]\n",
    "# Die Kanten mit angehängten Daten auslesen\n",
    "> list(G.edges(data=True))\n",
    "[(0, 1, {'capacity': 57}),\n",
    " (0, 2, {'capacity': 41}),\n",
    " (1, 9, {'capacity': 59}),\n",
    " ...]\n",
    "```\n",
    "\n",
    "**Nachbarn auslesen**\n",
    "```python\n",
    "# Die Nachbarn von Knoten 0\n",
    "> list(G[0]) # oder list(G.neighbors(0)) oder list(G.successors(0))\n",
    "[1, 2]\n",
    "```\n",
    "\n",
    "**Kanten auslesen**\n",
    "```python\n",
    "# Die Daten der Kante 0 -> 1\n",
    "> G[0][1] # or G.edges[0,1]\n",
    "{'capacity': 57}\n",
    "```\n",
    "\n",
    "**Beispielhafte imperative Implementierung einer Tiefensuche**\n",
    "```python\n",
    "def dfs(G: nx.DiGraph, source: int, target: int) -> list[int] | None:\n",
    "    stack = [(source, [source])]\n",
    "    while stack:\n",
    "        (node, path) = stack.pop()\n",
    "        for next in G.neighbors(node):\n",
    "            if next in path:\n",
    "                continue\n",
    "            elif next == target:\n",
    "                return path + [next]\n",
    "            else:\n",
    "                stack.append((next, path + [next]))\n",
    "    return None\n",
    "dfs(G, 0, 10)\n",
    "# -> [0, 2, 4, 6, 10]\n",
    "```\n",
    "\n",
    "</details>"
   ]
  },
  {
   "cell_type": "markdown",
   "id": "1b7a8d22",
   "metadata": {},
   "source": [
    "#### Fluss-Netzwerk Generierung\n",
    "\n",
    "Im Folgenden definieren wir eine Funktion, die das zufällige Flussnetzwerk erzeugt, das in dieser Aufgabe verwendet wird.\n",
    "\n",
    "**_In der nächsten Codezelle muss nichts geändert werden._**"
   ]
  },
  {
   "cell_type": "code",
   "execution_count": 52,
   "id": "dd7dc17f",
   "metadata": {},
   "outputs": [
    {
     "data": {
      "image/png": "[encoded data removed]",
      "text/plain": [
       "<Figure size 600x400 with 1 Axes>"
      ]
     },
     "metadata": {},
     "output_type": "display_data"
    }
   ],
   "source": [
    "# Code for generating a flow network and plotting it\n",
    "\n",
    "from cProfile import label\n",
    "\n",
    "\n",
    "def generate_flow_network(num_nodes: int, num_edges: int, min_capacity: int, max_capacity: int, seed=2025) -> nx.Graph:\n",
    "    \"\"\"\n",
    "    Generate a random directed flow network with specified parameters.\n",
    "    \n",
    "    Returns:\n",
    "        A directed graph (DiGraph) with random capacities and costs on edges.\n",
    "        The graph is read-only to prevent unintended modifications.\n",
    "    \"\"\"\n",
    "    # Reset the random seed for reproducibility\n",
    "    random.seed(seed)\n",
    "    \n",
    "    # Need to distribute the edges among the nodes, ensuring that each node has at least one incoming and one outgoing edge.\n",
    "    distribute_amount = lambda x, n: [1 + ((remaining := x - n) // n) + (1 if i < remaining % n else 0) for i in range(n)] if n <= x else []\n",
    "    degrees = distribute_amount(num_edges, num_nodes - 1)\n",
    "    in_degree = [0] + random.sample(degrees, k=len(degrees))  # First node has no outgoing edges\n",
    "    out_degree = random.sample(degrees, k=len(degrees)) + [0]  # Last node has no outgoing edges\n",
    "\n",
    "    G = nx.DiGraph()\n",
    "    G.add_nodes_from(range(num_nodes))\n",
    "    \n",
    "    # Add additional edges to ensure the graph has the desired number of edges\n",
    "    for u in range(num_nodes):\n",
    "        for _ in range(out_degree[u]): \n",
    "            # Select a random node to connect to, ensuring it is not the same as u and does not already have an edge with u\n",
    "            try:\n",
    "                v = random.choice([n for n in G.nodes() if n != u and not G.has_edge(u, n) and not G.has_edge(n, u) and in_degree[n] > G.in_degree(n)]) \n",
    "            except IndexError as e:\n",
    "                v = random.choice([n for n in G.nodes() if n != u and not G.has_edge(u, n) and not G.has_edge(n, u) and in_degree[n] != 0])\n",
    "            capacity = random.randint(min_capacity, max_capacity)\n",
    "            G.add_edge(u, v, capacity=capacity)\n",
    "\n",
    "    return nx.restricted_view(G, [], [])\n",
    "\n",
    "def plot_flow_network(G: nx.DiGraph, path: list[int] | None = None):\n",
    "    \"\"\"Plot the flow network using matplotlib and networkx.\n",
    "\n",
    "    Args:\n",
    "        G (nx.DiGraph): The flow network graph to plot.\n",
    "        path (list[int] | None, optional): A path through the network to highlight. Defaults to None.\n",
    "    \"\"\"\n",
    "    pos = nx.kamada_kawai_layout(G)\n",
    "    edge_colors = 'black'\n",
    "    if path:\n",
    "        # Highlight the path in the graph\n",
    "        path_edges = list(zip(path, path[1:]))\n",
    "        edge_colors = ['blue' if (u, v) in path_edges else 'black' for u, v in G.edges()]\n",
    "    nx.draw_networkx(G, pos, node_color=['green']+ ['pink']*(len(G.nodes)-2) + ['orange'], arrowsize=10, with_labels=True, edge_color=edge_colors)\n",
    "    nx.draw_networkx_edge_labels(G, pos, edge_labels={(u, v): f\"{d['capacity']}\" for u, v, d in G.edges(data=True)})\n",
    "    fig = plt.gcf()\n",
    "    fig.set_size_inches(6, 4)\n",
    "\n",
    "    plt.axis(\"off\")\n",
    "    plt.show()\n",
    "\n",
    "G = generate_flow_network(11, 20, 30, 60, datetime.now().microsecond % 1000)\n",
    "plot_flow_network(G) # type: ignore\n"
   ]
  },
  {
   "cell_type": "markdown",
   "id": "49234f4e",
   "metadata": {},
   "source": [
    "#### **(01.1.1)** Pfad mit maximalem Durchfluss\n",
    "\n",
    "_Für **4** Punkte_\n",
    "\n",
    "Finden Sie den Weg mit dem maximalen Fluss durch das Netz von `source` (Quelle) zu `target` (Senke). Welchen der in der Vorlesung vorgestellten Algorithmen würden Sie für diese Aufgabe verwenden, und warum?\n",
    "\n",
    "Schreiben Sie Ihren Ansatz auf, bevor Sie ihn in Python umsetzen."
   ]
  },
  {
   "cell_type": "markdown",
   "id": "e8639faa",
   "metadata": {},
   "source": [
    "\n",
    "> \n",
    "> Sinnvoll ist hier der best first search.\n",
    "> Maximaler Durchfluss ist $min(k_i)$, wobei $k_i$ die Kosten der einzelnen Kanten i sind.\n",
    "> "
   ]
  },
  {
   "cell_type": "code",
   "execution_count": 53,
   "id": "1fd5580c",
   "metadata": {},
   "outputs": [
    {
     "data": {
      "image/png": "[encoded data removed]",
      "text/plain": [
       "<Figure size 600x400 with 1 Axes>"
      ]
     },
     "metadata": {},
     "output_type": "display_data"
    }
   ],
   "source": [
    "# Implementation of task 01.1.1\n",
    "def path_with_maximum_capacity(G: nx.DiGraph, source: int, target: int) -> list[int]:\n",
    "    \"\"\"\n",
    "    Find the path with maximum capacity from source to target in the flow network.\n",
    "\n",
    "    Args:\n",
    "        G (nx.DiGraph): The flow network graph.\n",
    "        source (int): The source node.\n",
    "        target (int): The target node.\n",
    "\n",
    "    Returns:\n",
    "        list[int]: The path with maximum capacity from source to target.\n",
    "    \"\"\"\n",
    "    \"\"\"Implement best first search:\n",
    "    Form a one-element queue consisting of a zero-length path that contains only the root\n",
    "    node.\n",
    "    Until the first path in the queue terminates at the goal node or the queue is empty,\n",
    "        Remove the first path from the queue; create new paths by extendingthe first path to all neighbors of the terminal node.\n",
    "        Reject all new paths with loops.\n",
    "        Add the new paths, if any, to the queue.\n",
    "        Sort entire queue by the estimated distances between their terminal\n",
    "        nodes and the goal\n",
    "        If the goal node is found, announce success; otherwise announce failure.\"\"\"\n",
    "    queue = [[source]]  # Start with a path containing only the source node\n",
    "    visited = set()  # To keep track of visited nodes\n",
    "\n",
    "    while queue:\n",
    "        current_path = queue.pop(0)  # Get the first path in the queue\n",
    "        current_node = current_path[-1]\n",
    "        if current_node == target:\n",
    "            return current_path\n",
    "        visited.add(current_node)\n",
    "        for neighbor in G.neighbors(current_node):\n",
    "            if neighbor not in visited:\n",
    "                new_path = current_path + [neighbor]\n",
    "                # Calculate the minimum capacity of the edges in the new path\n",
    "                capacity = min(G[u][v]['capacity'] for u, v in zip(new_path[:-1], new_path[1:]))\n",
    "                # Sort the queue by the capacity of the paths (descending order)\n",
    "                queue.append(new_path)\n",
    "                queue.sort(key=lambda p: min(G[u][v]['capacity'] for u, v in zip(p[:-1], p[1:])), reverse=True)\n",
    "    return []  # Return an empty path because no path was found\n",
    "\n",
    "path = path_with_maximum_capacity(G, 0, 10)\n",
    "plot_flow_network(G, path) # type: ignore"
   ]
  },
  {
   "cell_type": "markdown",
   "id": "d82f0ed6",
   "metadata": {},
   "source": [
    "#### **(01.1.2)** Große Netzwerke\n",
    "\n",
    "_Für **2** Punkte_\n",
    "\n",
    "In den folgenden Codezellen haben werden größere Netze erzeugt. Was passiert, wenn du deinen Code auf diesen Netzen ausführst? Erkläre, warum!\n",
    "\n",
    "**_In den nächsten Codezellen muss nichts geändert werden._**"
   ]
  },
  {
   "cell_type": "code",
   "execution_count": null,
   "id": "5bb5b0fa",
   "metadata": {},
   "outputs": [],
   "source": [
    "# You do not need to modify the code in the following cells.\n",
    "# You may however do some experiments with the parameters and random seeds to see how your code behaves.\n",
    "\n",
    "G_large = generate_flow_network(21, 80, 25, 60)\n",
    "G_huge = generate_flow_network(51, 200, 25, 60)"
   ]
  },
  {
   "cell_type": "code",
   "execution_count": null,
   "id": "1a3a5a1f",
   "metadata": {},
   "outputs": [],
   "source": [
    "path_with_maximum_capacity(G_large, 0, 20)"
   ]
  },
  {
   "cell_type": "code",
   "execution_count": null,
   "id": "8152e7a4",
   "metadata": {},
   "outputs": [],
   "source": [
    "path_with_maximum_capacity(G_huge, 0, 50)"
   ]
  },
  {
   "cell_type": "markdown",
   "id": "3d99db88",
   "metadata": {},
   "source": [
    "\n",
    "> \n",
    "> Hier kann eure Antwort eingegeben werden.\n",
    "> "
   ]
  },
  {
   "cell_type": "markdown",
   "id": "dc9fc00e",
   "metadata": {},
   "source": [
    "#### **(01.1.3)** Kosten pro Liter\n",
    "\n",
    "_Für **2** Punkte_\n",
    "\n",
    "Angenommen, jedes Rohr hat auch Kosten pro Liter Wasser, der durch das Rohr fließt, und Sie möchten die Gesamtkosten minimieren, während Sie den Durchfluss maximieren.\n",
    "Was müssen Sie in Ihrer Implementierung für die Funktion `path_with_maximum_capacity_minimum_cost` ändern, um dies zu unterstützen?\n",
    "\n",
    "Schreiben Sie Ihren Ansatz auf, bevor Sie ihn in Python umsetzen."
   ]
  },
  {
   "cell_type": "markdown",
   "id": "6e5a767c",
   "metadata": {},
   "source": [
    "#### Kosten an die Kanten anfügen\n",
    "\n",
    "Eine Funktion, die dem Graphen zufällige Kosten hinzufügt.\n",
    "\n",
    "**_In der nächsten Codezelle muss nichts geändert werden._**"
   ]
  },
  {
   "cell_type": "code",
   "execution_count": null,
   "id": "1a0f6285",
   "metadata": {},
   "outputs": [],
   "source": [
    "def graph_with_edge_costs(G: nx.DiGraph, min_cost: int, max_cost: int, seed: int = 2025) -> None:\n",
    "    \"\"\"\n",
    "    Add random costs to the edges of the graph.\n",
    "\n",
    "    Args:\n",
    "        G (nx.DiGraph): The flow network graph.\n",
    "        min_cost (int): Minimum cost for edges.\n",
    "        max_cost (int): Maximum cost for edges.\n",
    "    \"\"\"\n",
    "    random.seed(seed)\n",
    "    G = nx.DiGraph(G)  # Create a copy of the graph to avoid modifying the original\n",
    "    for u, v in G.edges():\n",
    "        cost = random.randint(min_cost, max_cost)\n",
    "        G[u][v]['cost'] = cost\n",
    "    return nx.restricted_view(G, [], [])\n",
    "\n",
    "G_with_costs = graph_with_edge_costs(G, 20, 50)"
   ]
  },
  {
   "cell_type": "markdown",
   "id": "806ab6fa",
   "metadata": {},
   "source": [
    "\n",
    "> \n",
    "> Hier kann eure Antwort eingegeben werden.\n",
    "> "
   ]
  },
  {
   "cell_type": "code",
   "execution_count": null,
   "id": "8fd42777",
   "metadata": {},
   "outputs": [],
   "source": [
    "# Implementation of task 01.1.3\n",
    "\n",
    "def path_with_maximum_capacity_minimum_cost(G: nx.DiGraph, source: int, target: int) -> list[int]:\n",
    "    \"\"\"\n",
    "    Find the path with maximum capacity and minimum cost from source to target in the flow network.\n",
    "\n",
    "    Args:\n",
    "        G (nx.DiGraph): The flow network graph.\n",
    "        source (int): The source node.\n",
    "        target (int): The target node.\n",
    "\n",
    "    Returns:\n",
    "        list[int]: The path with maximum capacity and minimum cost from source to target.\n",
    "    \"\"\"\n",
    "    \n",
    "    # TODO: Implement this\n",
    "    \n",
    "    return []\n",
    "\n",
    "path = path_with_maximum_capacity_minimum_cost(G_with_costs, 0, 9)\n",
    "plot_flow_network(G, path)"
   ]
  },
  {
   "cell_type": "markdown",
   "id": "e26abe7d",
   "metadata": {},
   "source": [
    "## Aufgabe 2 | Heuristische Suche mit A*\n",
    "\n",
    "_Für insgesamt 12 Punkte_"
   ]
  },
  {
   "cell_type": "markdown",
   "id": "98101391",
   "metadata": {},
   "source": [
    "In der gesamten Aufgabe werden wir den [GTFS.de](https://gtfs.de/de/feeds/) Datensatz zum Deutschen Schienennetz verwenden. Wir wollen so einen A* Algorithmus implementieren, welcher es uns ermöglicht die schnellsten Verbindungen zu finden.\n",
    "\n",
    "<div class=\"alert-warning\" style=\"padding: 1rem\">\n",
    "Zur vereinfachung ignorieren wir in dieser Aufgabe die unterschiedlichen Ankunfts- und Abfahrtszeiten. Wir betrachten lediglich die Stationen sowie die Fahrtdauer."
   ]
  },
  {
   "cell_type": "markdown",
   "id": "69116b5f",
   "metadata": {},
   "source": [
    "**_Datenmodell._** In der folgenden Zelle werden zwei Klassen definiert, um die Daten darzustellen.\n",
    "\n",
    "- `Connection` stellt eine Verbindung von einem `Stop` zu einem anderen `target_stop_id` dar. Diese Verbindung hat eine Reisedauer von `travel_minutes`.\n",
    "- `Stop` stellt eine Haltestelle mit einer eindeutigen `id`, einem `name` und `connections` dar. Eine Haltestelle hat mehrere _ausgehende_ `Connections`. Zudem werden in `Stop` noch die `lat` bzw. `lon` Koordinaten der Haltestelle gespeichert.\n",
    "\n",
    "**_An der nächsten Code Zelle darf nichts verändert werden._**"
   ]
  },
  {
   "cell_type": "code",
   "execution_count": null,
   "id": "b0cfe936",
   "metadata": {},
   "outputs": [],
   "source": [
    "@dataclass(frozen=True)\n",
    "class Connection:\n",
    "    \"\"\"A connection, from one stop to the target stop that takes some time.\"\"\"\n",
    "\n",
    "    target_stop_id: str\n",
    "    travel_minutes: float\n",
    "\n",
    "\n",
    "@dataclass(frozen=True)\n",
    "class Stop:\n",
    "    \"\"\"A single stop with outgoing connections.\"\"\"\n",
    "\n",
    "    id: str\n",
    "    name: str\n",
    "    lat: float\n",
    "    lon: float\n",
    "    connections: frozenset[Connection]"
   ]
  },
  {
   "cell_type": "markdown",
   "id": "41c78388",
   "metadata": {},
   "source": [
    "#### **(01.2.1)** Import des Datensatzes\n",
    "\n",
    "_Für **2** Punkte_\n"
   ]
  },
  {
   "cell_type": "markdown",
   "id": "335432a4",
   "metadata": {},
   "source": [
    "In der folgenden Zelle soll der Datensatz _Schienenfernverkehr Deutschland_ geladen werden. Dieser befindet sich im Ordner `task_2_data` und wurde gemäß [Creative Commons 4.0](https://creativecommons.org/licenses/by/4.0/) Lizenz von [GTFS.de](https://gtfs.de/de/feeds/) heruntergeladen.\n",
    "\n",
    "In diesem Datensatz finden sich verschiedene Dateien.\n",
    "Alle Daten sind im CSV-Format (\"Comma-Separated Values\") gespeicher. Dieses speichert tabellarische Daten, bei denen die Werte einer Zeile durch Kommata getrennt sind. Jede Zeile entspricht einer Datensatzzeile, die erste Zeile enthält normalerweise die Spaltenüberschriften.\n",
    "\n",
    "Um in Python über die Zeilen einer CSV-Datei zu iterieren, kann folgender Code verwendet werden:\n",
    "\n",
    "```python\n",
    "import csv\n",
    "\n",
    "with open(\"stops.csv\", encoding=\"utf-8\") as f:\n",
    "    reader = csv.DictReader(f)\n",
    "    \n",
    "    # or do whatever you want with the reader iterable\n",
    "    map(lambda row: print(row), reader)\n",
    "```\n",
    "\n",
    "Wir benötigen nur zwei Dateien des Datensatzes: `stops.csv` und `stop_times.csv`. Deren Inhalt ist im folgenden kurz erklärt.\n",
    "\n",
    "Die Datei `stops.csv` enthält alle verfügbaren Haltestellen im Verkehrsnetz.\n",
    "Jede Zeile beschreibt eine Haltestelle anhand von vier wesentlichen Attributen:\n",
    "- `stop_id`: Eine eindeutige Identifikationsnummer für die Haltestelle.\n",
    "- `stop_name`: Der Name der Haltestelle (z.B. \"Central Station\").\n",
    "- `stop_lat`: Die geografische Breite der Haltestelle (Latitude).\n",
    "- `stop_lon`: Die geografische Länge der Haltestelle (Longitude).\n",
    "\n",
    "Die Datei `stop_times.csv` enthält die Reihenfolge, in der Haltestellen im Rahmen einer Fahrt (`trip_id`) besucht werden, sowie die Ankunfts- und Abfahrtszeiten.\n",
    "Jede Zeile beschreibt einen Halt an einer Haltestelle innerhalb einer bestimmten Fahrt mit folgenden Informationen:\n",
    "- `trip_id`: Eine ID, die eine spezifische Fahrt beschreibt.\n",
    "- `arrival_time`: Die Ankunftszeit an der Haltestelle (im Format `HH:MM:SS`).\n",
    "- `departure_time`: Die Abfahrtszeit von der Haltestelle (ebenfalls `HH:MM:SS`).\n",
    "- `stop_id`: Die ID der Haltestelle.\n",
    "- `stop_sequence`: Die Reihenfolge dieses Haltes innerhalb der Fahrt.\n",
    "\n",
    "_Tatsächlich enthalten beide Dateien weitere Attribute, diese sind für die Bearbeitung der Aufgabe allerdings nicht notwendig._\n",
    "\n",
    "\n",
    "Vervollständige nun das vorgegebene Codegerüst, um alle `Stop`s mit ihren `Connection`s aus dem Datensatz zu laden.\n",
    "\n",
    "\n",
    "---\n",
    "\n",
    "<details>\n",
    "<summary>Tipp um die Kanten des Graphen zu \"parsen\"</summary>\n",
    "\n",
    "Um die Kanten des Graphen aus den Daten zu parsen, betrachtet man die aufeinanderfolgenden Einträge innerhalb eines Trips (aus der Datei `stop_times.csv`).\n",
    "Immer wenn ein Halt (`stop_id`) auf den nächsten Halt folgt (`stop_sequence`), entsteht eine gerichtete Verbindung von der ersten zur zweiten Haltestelle.\n",
    "Die Fahrzeit wird dabei als Differenz zwischen Abfahrtszeit am ersten Halt und Ankunftszeit am zweiten Halt berechnet.\n",
    "\n",
    "</details>"
   ]
  },
  {
   "cell_type": "code",
   "execution_count": null,
   "id": "850d65af",
   "metadata": {},
   "outputs": [],
   "source": [
    "# Implementation of task 01.2.1\n",
    "def parse_stops(base_dir: Path) -> list[Stop]:\n",
    "    \"\"\"Parses all stops from the given dataset.\"\"\"\n",
    "    # TODO: Implement here\n",
    "\n",
    "    return []\n",
    "\n",
    "\n",
    "# Load the stops from the dataset\n",
    "stops = parse_stops(Path(\"./task_2_data\"))\n",
    "\n",
    "print(f\"Successfully loaded {len(stops)} stops!\")"
   ]
  },
  {
   "cell_type": "markdown",
   "id": "55f46690",
   "metadata": {},
   "source": [
    "<div class=\"alert-danger\" style=\"padding: 1rem\">\n",
    "Solltet ihr die vorherige Aufgabe nicht lösen können, führt folgende Code Zelle aus, um die vorgefertigten Daten zu laden und die weiteren Aufgaben bearbeiten zu können."
   ]
  },
  {
   "cell_type": "code",
   "execution_count": null,
   "id": "76013549",
   "metadata": {},
   "outputs": [],
   "source": [
    "import json\n",
    "from pathlib import Path\n",
    "\n",
    "\n",
    "def load_stops_from_json(file_path: Path) -> list[Stop]:\n",
    "    \"\"\"Loads data from the prepared failsafe data.\"\"\"\n",
    "    with open(file_path, encoding=\"utf-8\") as f:\n",
    "        data = json.load(f)\n",
    "\n",
    "    return [\n",
    "        Stop(\n",
    "            **{\n",
    "                **entry,\n",
    "                \"connections\": frozenset(\n",
    "                    Connection(**connection)\n",
    "                    for connection in entry.get(\"connections\", [])\n",
    "                ),\n",
    "            }\n",
    "        )\n",
    "        for entry in data\n",
    "    ]\n",
    "\n",
    "\n",
    "stops = load_stops_from_json(Path(\"./task_2_data/failsafe_data.json\"))\n",
    "print(f\"Successfully loaded {len(stops)} stops (from failsafe data)!\")\n"
   ]
  },
  {
   "cell_type": "markdown",
   "id": "807431b1",
   "metadata": {},
   "source": [
    "#### **(01.2.2)** A*\n",
    "\n",
    "_Für **5** Punkte_\n",
    "\n",
    "Nun soll der vollständige A* Algorithmus in der Funktion `a_star` implementiert werden."
   ]
  },
  {
   "cell_type": "markdown",
   "id": "76c2820b",
   "metadata": {},
   "source": [
    "**_Deklaration der Heuristiken._** In der folgenden Zelle werden zwei Heuristiken `h_zero` und `h_euclid` definiert.\n",
    "\n",
    "**_An der nächsten Code Zelle muss nichts verändert werden._**"
   ]
  },
  {
   "cell_type": "code",
   "execution_count": null,
   "id": "6609b585",
   "metadata": {},
   "outputs": [],
   "source": [
    "def h_zero(source: Stop, goal: Stop) -> float:\n",
    "    \"\"\"\n",
    "    A heuristic that always returns zero.\n",
    "\n",
    "    :param source: The current node.\n",
    "    :param goal: The goal node.\n",
    "    \"\"\"\n",
    "    return 0\n",
    "\n",
    "def h_euclid(source: Stop, goal: Stop) -> float:\n",
    "    \"\"\"\n",
    "    A heuristic that uses the euclidean distance of the coordinate pairs.\n",
    "\n",
    "    :param source: The current node.\n",
    "    :param goal: The goal node.\n",
    "    \"\"\"\n",
    "    dx = source.lat - goal.lat\n",
    "    dy = source.lon - goal.lon\n",
    "\n",
    "    return math.sqrt(dx * dx + dy * dy)"
   ]
  },
  {
   "cell_type": "markdown",
   "id": "ca214882",
   "metadata": {},
   "source": [
    "In der nächsten Zelle haben wir bereits die Signatur der `a_star` Funktion vorgegeben, eure Aufgabe ist es nun diese zu vervollständigen. Diese Funktion erhält als ersten Parameter die zu verwendende Heuristik, welche bereits vorgegeben ist. Als weitere Parameter erhält sie `start_id`, die `id` des `Stop`s von dem die Suche aus gestartet wird und `goal_id`, die `id` des `Stop`s zu dem ein Pfad gefunden werden soll. \n",
    "\n",
    "Der Rückgabewert der Funktion ist ein Tupel, welches an erster Stelle den gewählten Pfad und an zweiter Stelle die Gesamtkosten enthält.\n",
    "Der gewählte Pfad ist wiederum eine Liste aus Tupeln, welche an erster Stelle den `Stop` haben, von welchem die an zweiter Stelle stehende `Connection` aus geht.\n",
    "\n",
    "Ihr dürft natürlich auch weitere Funktionen definieren!"
   ]
  },
  {
   "cell_type": "code",
   "execution_count": null,
   "id": "cc380335",
   "metadata": {},
   "outputs": [],
   "source": [
    "# Implementation of task 01.2.2\n",
    "def a_star(heuristic: Callable[[Stop, Stop], float], start_id: str, goal_id: str, stops: list[Stop]) -> tuple[list[tuple[Stop, Connection]], float]:\n",
    "    \"\"\"\n",
    "    Finds the shortest path to the given `goal_id`, starting from `start_id`.\n",
    "\n",
    "    :param heuristic: The heuristic to use when searching for a path.\n",
    "    :param start_id: The id of the stop to start the search from.\n",
    "    :param goal_id: The id of the stop to search a path to.\n",
    "    :param stops: The list of available stops.\n",
    "    \"\"\"\n",
    "    # TODO: Implement the A* algorithm\n",
    "\n",
    "    return [], float('inf')"
   ]
  },
  {
   "cell_type": "markdown",
   "id": "2959479f",
   "metadata": {},
   "source": [
    "**_Testaufrufe._** Ihr könnt die folgenden Aufrufe des Algorithmus verwenden, um zu testen ob eure Implementierung für die Beispiele korrekt arbeitet.\n",
    "\n",
    "**_An der nächsten Code Zelle muss nichts verändert werden._**"
   ]
  },
  {
   "cell_type": "code",
   "execution_count": null,
   "id": "56c6f16a",
   "metadata": {},
   "outputs": [],
   "source": [
    "import time\n",
    "\n",
    "def print_path(path: list[tuple[Stop, Connection]], total_minutes: float):\n",
    "    \"\"\"\n",
    "    Helper function to print the result of a search in a nice way.\n",
    "\n",
    "    :param path: The actual path, together with the used connections.\n",
    "    :param time: The total minutes this path needs.\n",
    "    \"\"\"\n",
    "    if not path:\n",
    "        print(\"Kein Pfad gefunden.\")\n",
    "        return\n",
    "\n",
    "    print(\"Gefundener Pfad:\")\n",
    "    for stop, connection in path:\n",
    "        next_stop_name = next(s.name for s in stops if s.id == connection.target_stop_id)\n",
    "\n",
    "        print(f\"  * {stop.name} -> {next_stop_name} ({connection.travel_minutes} min)\")\n",
    "\n",
    "    print(f\"\\nGesamtdauer: {total_minutes:.1f} Minuten\\n\")\n",
    "\n",
    "\n",
    "def measured[A,**B](func: Callable[B, A]) -> Callable[B, A]:\n",
    "    \"\"\"\n",
    "    Measures the time it takes to run a function.\n",
    "\n",
    "    :param func: The function to measure.\n",
    "    :param args: The arguments to pass to the function.\n",
    "    :param kwargs: The keyword arguments to pass to the function.\n",
    "    \"\"\"\n",
    "    def wrapper(*args: B.args, **kwargs: B.kwargs) -> A:\n",
    "        start_time = time.perf_counter()\n",
    "        result = func(*args, **kwargs)\n",
    "        end_time = time.perf_counter()\n",
    "        print(f\"Funktionsaufruf hat {end_time - start_time:.5f} Sekunden gedauert.\")\n",
    "\n",
    "        return result\n",
    "\n",
    "    return wrapper\n",
    "\n",
    "\n",
    "\n",
    "# Test Calls\n",
    "\n",
    "# Aachen Hbf -> Amsterdam Centraal\n",
    "print(\"A* with h_zero:\")\n",
    "path, total_minutes = measured(a_star)(heuristic=h_zero, start_id=\"525449\", goal_id=\"351939\", stops=stops)\n",
    "\n",
    "print_path(path, total_minutes)\n",
    "# Gefundener Pfad:\n",
    "#  * Aachen Hbf -> Herzogenrath (14.0 min)\n",
    "#  * Herzogenrath -> Geilenkirchen (6.0 min)\n",
    "#  * Geilenkirchen -> Erkelenz (9.0 min)\n",
    "#  * Erkelenz -> Rheydt Hbf (7.0 min)\n",
    "#  * Rheydt Hbf -> Mönchengladbach Hbf (4.0 min)\n",
    "#  * Mönchengladbach Hbf -> Venlo(Gr) (11.0 min)\n",
    "#  * Venlo(Gr) -> 's-Hertogenbosch (35.0 min)\n",
    "#  * 's-Hertogenbosch -> Utrecht Centraal (27.0 min)\n",
    "#  * Utrecht Centraal -> Amsterdam Centraal (25.0 min)\n",
    "#\n",
    "# Gesamtdauer: 138.0 Minuten\n",
    "\n",
    "print() # Newline\n",
    "\n",
    "# Aachen Hbf -> Amsterdam Centraal\n",
    "print(\"A* with h_euclid:\")\n",
    "path, total_minutes = measured(a_star)(heuristic=h_euclid, start_id=\"525449\", goal_id=\"351939\", stops=stops)\n",
    "\n",
    "print_path(path, total_minutes)\n",
    "# Gefundener Pfad:\n",
    "#  * Aachen Hbf -> Herzogenrath (14.0 min)\n",
    "#  * Herzogenrath -> Geilenkirchen (6.0 min)\n",
    "#  * Geilenkirchen -> Erkelenz (9.0 min)\n",
    "#  * Erkelenz -> Rheydt Hbf (7.0 min)\n",
    "#  * Rheydt Hbf -> Mönchengladbach Hbf (4.0 min)\n",
    "#  * Mönchengladbach Hbf -> Venlo(Gr) (11.0 min)\n",
    "#  * Venlo(Gr) -> 's-Hertogenbosch (35.0 min)\n",
    "#  * 's-Hertogenbosch -> Utrecht Centraal (27.0 min)\n",
    "#  * Utrecht Centraal -> Amsterdam Centraal (25.0 min)\n",
    "#\n",
    "# Gesamtdauer: 138.0 Minuten\n"
   ]
  },
  {
   "cell_type": "markdown",
   "id": "65a3a441",
   "metadata": {},
   "source": [
    "#### **(01.2.3)** Bewertung der Heuristiken\n",
    "\n",
    "_Für **2** Punkte_\n",
    "\n",
    "Betrachtet erneut die gegebenen Heuristiken. Was ist die Intuition hinter beiden vorgegebenen Heuristiken? Wie verhält sich der A* Algorithmus bei Verwendung von `h_zero` und wieso könnte `h_euclid` eine Verbesserung bringen?"
   ]
  },
  {
   "cell_type": "markdown",
   "id": "89157c75",
   "metadata": {},
   "source": [
    "> \n",
    "> Hier kann eure Antwort eingegeben werden.\n",
    "> "
   ]
  },
  {
   "cell_type": "markdown",
   "id": "41d669ab",
   "metadata": {},
   "source": [
    "#### **(01.2.4)** Eigene Heuristik\n",
    "\n",
    "_Für **3** Punkte_\n",
    "\n",
    "Beide gegebene Heuristiken sind nicht besonders gut geeignet um auf Koordinaten (`lat` und `lon`) zu arbeiten. Recherchiert deshalb selbst nach einer geeigneten Heuristik und implementiert diese in der folgenden Code-Zelle. Erklärt auch warum eure Heuristik besser als beide der vorgegebenen ist."
   ]
  },
  {
   "cell_type": "code",
   "execution_count": null,
   "id": "f3ebccb7",
   "metadata": {},
   "outputs": [],
   "source": [
    "# Implementation of task 01.2.4\n",
    "def h_custom(source: Stop, goal: Stop) -> float:\n",
    "    # TODO: Implement custom heuristic\n",
    "    return 0"
   ]
  },
  {
   "cell_type": "markdown",
   "id": "a4d5bd86",
   "metadata": {},
   "source": [
    "> \n",
    "> Hier kann eure Antwort eingegeben werden.\n",
    "> "
   ]
  },
  {
   "cell_type": "markdown",
   "id": "b9dcc970",
   "metadata": {},
   "source": [
    "**_Testaufruf._** Der Code in der folgenden Zelle kann verwendet werden um den Algorithmus mit eurer Heuristik zu testen.\n",
    "\n",
    "**_An der nächsten Code Zelle muss nichts verändert werden._**"
   ]
  },
  {
   "cell_type": "code",
   "execution_count": null,
   "id": "af2d4414",
   "metadata": {},
   "outputs": [],
   "source": [
    "path, total_minutes =  measured(a_star)(heuristic=h_custom, start_id=\"525449\", goal_id=\"351939\", stops=stops)\n",
    "\n",
    "print_path(path, total_minutes)"
   ]
  }
 ],
 "metadata": {
  "kernelspec": {
   "display_name": "Python 3",
   "language": "python",
   "name": "python3"
  },
  "language_info": {
   "codemirror_mode": {
    "name": "ipython",
    "version": 3
   },
   "file_extension": ".py",
   "mimetype": "text/x-python",
   "name": "python",
   "nbconvert_exporter": "python",
   "pygments_lexer": "ipython3",
   "version": "3.12.6"
  }
 },
 "nbformat": 4,
 "nbformat_minor": 5
}
