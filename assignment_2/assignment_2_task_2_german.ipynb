{
 "cells": [
  {
   "cell_type": "markdown",
   "id": "e9d8d984",
   "metadata": {},
   "source": [
    "<img src=\"images/logo.png\" width=\"200\">"
   ]
  },
  {
   "cell_type": "markdown",
   "id": "501d2007",
   "metadata": {},
   "source": [
    "# KogSys-KI-B - Assignment 2\n",
    "\n",
    "### Adversarial Search, Constraint Satisfaction Problems\n",
    "\n",
    "_Abgabefrist: **15.06.2025**_\n",
    "\n",
    "---\n",
    "\n"
   ]
  },
  {
   "cell_type": "markdown",
   "id": "0d509b94",
   "metadata": {},
   "source": [
    "#### Abgabe Informationen\n",
    "\n",
    "Laden Sie Ihre Lösung über den VC-Kurs hoch. Bitte laden Sie **ein Zip-Archiv** pro Gruppe hoch. Dieses muss enthalten:\n",
    "\n",
    "- Ihre Lösung als **Notebooks** (pro Gesamtaufgabe eine `.ipynb`-Datei)\n",
    "- Ein Ordner mit dem Namen **images**, der alle Ihre Bilder enthält, falls Sie welche verwendet haben (halten Sie die Bildgrößen relativ klein)\n",
    "\n",
    "Ihr Zip-Archiv sollte wie folgt benannt werden:\n",
    "\n",
    "```\n",
    "assignment_<Assignmentnummer>_solution_<Gruppennummer>.zip\n",
    "```\n",
    "\n",
    "In dieser Aufgabe können Sie insgesamt **30 Punkte** erreichen. Von diesen Punkten werden **3 Bonuspunkte** für die Prüfung wie folgt berechnet:\n",
    "\n",
    "| **Points in Assignment** | **Bonus Points for Exam** |\n",
    "| :----------------------: | :-----------------------: |\n",
    "|            30            |             3             |\n",
    "|            25            |            2.5            |\n",
    "|            20            |             2             |\n",
    "|            15            |            1.5            |\n",
    "|            10            |             1             |\n",
    "|            5             |            0.5            |"
   ]
  },
  {
   "cell_type": "markdown",
   "id": "ff990221",
   "metadata": {},
   "source": [
    "<div class='alert alert-block alert-danger'>\n",
    "\n",
    "##### **Wichtige Hinweise**\n",
    "\n",
    "1. **Diese Aufgabe wird benotet. Sie können Bonuspunkte für die Prüfung erwerben.**\n",
    "2. **Wenn offensichtlich ist, dass eine Aufgabe von einer anderen Quelle kopiert wurde und keine eigenständige Arbeit geleistet wurde, werden keine Bonuspunkte vergeben. Bitte formulieren Sie alle Antworten in Ihren eigenen Worten!**\n",
    "3. **Falls LLMs (wie ChatGPT oder Copilot) zur Erstellung Ihrer Einreichung verwendet wurden, geben Sie dies bitte gemäß den gängigen wissenschaftlichen Praktiken an. Siehe auch die [KI Policy im VC-Kurs](https://vc.uni-bamberg.de/mod/page/view.php?id=1980835)**"
   ]
  },
  {
   "cell_type": "markdown",
   "id": "56daf129",
   "metadata": {},
   "source": [
    "### Setup"
   ]
  },
  {
   "cell_type": "markdown",
   "id": "89f7cca8",
   "metadata": {},
   "source": [
    "Um euer assignment aufzusetzen, müsst ihr die notwendigen pakete installieren, welche in der Datein `requirements.txt` gelistet sind. Dies könnt ihr machen, indem ihr die folgende Zelle ausführt."
   ]
  },
  {
   "cell_type": "code",
   "execution_count": 20,
   "id": "1486ca3b",
   "metadata": {},
   "outputs": [
    {
     "name": "stdout",
     "output_type": "stream",
     "text": [
      "Requirement already satisfied: ipywidgets in c:\\users\\jonas\\appdata\\local\\programs\\python\\python312\\lib\\site-packages (from -r requirements.txt (line 1)) (8.1.7)\n",
      "Requirement already satisfied: pygame in c:\\users\\jonas\\appdata\\local\\programs\\python\\python312\\lib\\site-packages (from -r requirements.txt (line 2)) (2.6.1)\n",
      "Requirement already satisfied: comm>=0.1.3 in c:\\users\\jonas\\appdata\\roaming\\python\\python312\\site-packages (from ipywidgets->-r requirements.txt (line 1)) (0.2.2)\n",
      "Requirement already satisfied: ipython>=6.1.0 in c:\\users\\jonas\\appdata\\roaming\\python\\python312\\site-packages (from ipywidgets->-r requirements.txt (line 1)) (9.2.0)\n",
      "Requirement already satisfied: traitlets>=4.3.1 in c:\\users\\jonas\\appdata\\roaming\\python\\python312\\site-packages (from ipywidgets->-r requirements.txt (line 1)) (5.14.3)\n",
      "Requirement already satisfied: widgetsnbextension~=4.0.14 in c:\\users\\jonas\\appdata\\local\\programs\\python\\python312\\lib\\site-packages (from ipywidgets->-r requirements.txt (line 1)) (4.0.14)\n",
      "Requirement already satisfied: jupyterlab_widgets~=3.0.15 in c:\\users\\jonas\\appdata\\local\\programs\\python\\python312\\lib\\site-packages (from ipywidgets->-r requirements.txt (line 1)) (3.0.15)\n",
      "Requirement already satisfied: colorama in c:\\users\\jonas\\appdata\\roaming\\python\\python312\\site-packages (from ipython>=6.1.0->ipywidgets->-r requirements.txt (line 1)) (0.4.6)\n",
      "Requirement already satisfied: decorator in c:\\users\\jonas\\appdata\\roaming\\python\\python312\\site-packages (from ipython>=6.1.0->ipywidgets->-r requirements.txt (line 1)) (5.2.1)\n",
      "Requirement already satisfied: ipython-pygments-lexers in c:\\users\\jonas\\appdata\\roaming\\python\\python312\\site-packages (from ipython>=6.1.0->ipywidgets->-r requirements.txt (line 1)) (1.1.1)\n",
      "Requirement already satisfied: jedi>=0.16 in c:\\users\\jonas\\appdata\\roaming\\python\\python312\\site-packages (from ipython>=6.1.0->ipywidgets->-r requirements.txt (line 1)) (0.19.2)\n",
      "Requirement already satisfied: matplotlib-inline in c:\\users\\jonas\\appdata\\roaming\\python\\python312\\site-packages (from ipython>=6.1.0->ipywidgets->-r requirements.txt (line 1)) (0.1.7)\n",
      "Requirement already satisfied: prompt_toolkit<3.1.0,>=3.0.41 in c:\\users\\jonas\\appdata\\roaming\\python\\python312\\site-packages (from ipython>=6.1.0->ipywidgets->-r requirements.txt (line 1)) (3.0.51)\n",
      "Requirement already satisfied: pygments>=2.4.0 in c:\\users\\jonas\\appdata\\roaming\\python\\python312\\site-packages (from ipython>=6.1.0->ipywidgets->-r requirements.txt (line 1)) (2.19.1)\n",
      "Requirement already satisfied: stack_data in c:\\users\\jonas\\appdata\\roaming\\python\\python312\\site-packages (from ipython>=6.1.0->ipywidgets->-r requirements.txt (line 1)) (0.6.3)\n",
      "Requirement already satisfied: wcwidth in c:\\users\\jonas\\appdata\\roaming\\python\\python312\\site-packages (from prompt_toolkit<3.1.0,>=3.0.41->ipython>=6.1.0->ipywidgets->-r requirements.txt (line 1)) (0.2.13)\n",
      "Requirement already satisfied: parso<0.9.0,>=0.8.4 in c:\\users\\jonas\\appdata\\roaming\\python\\python312\\site-packages (from jedi>=0.16->ipython>=6.1.0->ipywidgets->-r requirements.txt (line 1)) (0.8.4)\n",
      "Requirement already satisfied: executing>=1.2.0 in c:\\users\\jonas\\appdata\\roaming\\python\\python312\\site-packages (from stack_data->ipython>=6.1.0->ipywidgets->-r requirements.txt (line 1)) (2.2.0)\n",
      "Requirement already satisfied: asttokens>=2.1.0 in c:\\users\\jonas\\appdata\\roaming\\python\\python312\\site-packages (from stack_data->ipython>=6.1.0->ipywidgets->-r requirements.txt (line 1)) (3.0.0)\n",
      "Requirement already satisfied: pure-eval in c:\\users\\jonas\\appdata\\roaming\\python\\python312\\site-packages (from stack_data->ipython>=6.1.0->ipywidgets->-r requirements.txt (line 1)) (0.2.3)\n",
      "Note: you may need to restart the kernel to use updated packages.\n"
     ]
    }
   ],
   "source": [
    "# Installiert die benötigten Pakete mit dem akutell ausgewählten Python-Interpreter\n",
    "%pip install -U -r requirements.txt"
   ]
  },
  {
   "cell_type": "markdown",
   "id": "ea5f8a86",
   "metadata": {},
   "source": [
    "# Aufgabe 2 - Bedingungserfüllungsprobleme (CSP) am Beispiel \"Hashiwokakero\"\n",
    "\n",
    "*Für insgesamt <mark>15</mark> Punkte*\n",
    "\n",
    "In dieser Aufgabe ist es das Ziel, einen **Constraint Satisfaction Problem (CSP) Solver** für das [Hashiwokakero Puzzel-Spiel](https://de.wikipedia.org/wiki/Hashiwokakero) zu implementieren. Eure Aufgabe ist es, die CSP-Solver Implementierung vervollständigen.\n",
    "\n",
    "### CSP Formulierung:\n",
    "* **Variables (X)**: Potentielle Brücken zwischen benachbarten Inseln\n",
    "* **Domains (D)**: Anzahl Brücken (0, 1, oder 2) zwischen Inselpaaren\n",
    "* **Constraints (C)**:\n",
    "  - Jede Insel muss exakt die durch ihre Zahl angegebene Anzahl Brücken haben\n",
    "  - Brücken können sich nicht kreuzen\n",
    "  - Brücken können nur horizontal oder vertikal verlaufen\n",
    "  - Alle Inseln müssen verbunden sein um ein einziges Netzwerk zu bilden\n",
    "\n"
   ]
  },
  {
   "cell_type": "markdown",
   "id": "ef200016",
   "metadata": {},
   "source": [
    "### Bibliotheks-Imports"
   ]
  },
  {
   "cell_type": "markdown",
   "id": "221be084",
   "metadata": {},
   "source": [
    "In der folgenden Zelle werden einige wichtige Bibliotheken importiert. Dies soll hier kurz erläutert werden. Verwenden Sie keine anderen Drittanbieterbibliotheken.\n",
    "\n",
    "- `collections.deque` und `collections.defaultdict`: Diese werden für die Implementierung der Datenstrukturen verwendet, die für die Konnektivitätsprüfung verwendet wird.\n",
    "- `time`: Wird für den Abbruch des CSP-Solvers nach maximaler Laufzeit verwendet.\n",
    "- `typing.List`, `typing.Tuple`, `typing.Dict`, `typing.Optional` und `typing.Iterable`: Wird für Typanmerkungen in den Methodenspezifikationen benötigt.\n",
    "- `pprint`: Wird für die Ausgabe von Datenstrukturen in einem lesbareren Format verwendet.\n",
    "\n",
    "\n",
    "**_In der nächsten Codezelle muss nichts geändert werden._**"
   ]
  },
  {
   "cell_type": "code",
   "execution_count": 21,
   "id": "61444606",
   "metadata": {},
   "outputs": [],
   "source": [
    "from collections import deque, defaultdict\n",
    "import time\n",
    "from typing import List, Tuple, Dict, Optional, Iterable\n",
    "from pprint import pprint"
   ]
  },
  {
   "cell_type": "markdown",
   "id": "a3f9e7b4",
   "metadata": {},
   "source": [
    "## Vorgegebene Hilfsfunktionen\n",
    "\n",
    "**_An den Hilfsfunktionen muss nichts verändert werden. Versuchen Sie aber alle nachzuvollziehen, um sie entsprechend zu nutzen._**"
   ]
  },
  {
   "cell_type": "markdown",
   "id": "f04109a8",
   "metadata": {},
   "source": [
    "### 0. Datenstrukturen und Spielbrett\n",
    "\n",
    "- Gegebene Datenstrukturen des Spielbretts:\n",
    "  - Die `Island` enthält die Position und notwendige Anzahl an Brücken für eine Insel. \n",
    "  - Das `HashiwokakeroBoard` ist die Implementierung des Spielbretts. Es enthält Logik, um:\n",
    "    - eine Insel von spezifischen Koordinaten zu erhalten (`get_island`),\n",
    "    - Brücken hinzuzufügen (`add_bridge`),\n",
    "    - alle Möglichen Verbindungen zwischen Inseln zu erhalten (`find_potential_connections`)\n",
    "  - Die `HashiwokakeroGameEngine` implementiert die Anzeige des Spiels und Interaktionen mit pygame:\n",
    "    - `solve` im Konstruktor ist eine Funktion die das CSP Problem lösen soll. \n",
    "    - `run` startet das Spiel und zeigt das Spielbrett an.\\\n",
    "      In diesem Modus sind mehrere Shortcuts verfügbar, die unter [Spielaufruf](#spielaufruf) beschrieben sind.\n",
    "    - `board` ist das aktuelle Spielbrett.\n",
    "    - `load_puzzle` lädt ein Puzzle nach Name (`puzzle1`, `puzzle2` oder `puzzle3`) oder mit einer Liste an Inseln im Format `list[tuple[row: int,col: int,value: int]]`.\n",
    "- Datenstrukturen für den CSP-Solver:\n",
    "  - **`type Var_PossibleBridge`**: Repräsentiert eine mögliche Brücke zwischen zwei Inseln. (Variable `x` des CSPs)\n",
    "  - **`domain`**: alle möglichen Werte für eine Variable (Anzahl der Brücken zwischen zwei Inseln, 0, 1 oder 2).\n",
    "  - **`type Assignment`**: Repräsentiert eine Zuordnung von Variablen zu Werten. Es ist ein Dictionary, das die Variablen (`Var_PossibleBridge`) den möglichen Brücken zuordnet. Der Wert ist aus der `domain` oder `None`, wenn die Variable noch nicht zugeordnet ist. \\\n",
    "    Hilfsfunktionen für das Arbeiten mit `Assignment`:\n",
    "    - `get_bridge_count`: Ermittelt die Anzahl der Brücken für eine `Island` in einem `Assignment`.\n",
    "    - `get_unassigned_vars`: Gibt eine Liste aller unzugeordneten Variablen in einem `Assignment` zurück. Optional nur für eine bestimmte `Island`.\n",
    "\n",
    "Beispiel:\n",
    "```python\n",
    "#                row, col, value\n",
    "island1 = Island(0,   0,   2    )\n",
    "island2 = Island(0,   1,   1    ) \n",
    "island3 = Island(1,   0,   1    )\n",
    "board = HashiwokakeroBoard(islands=[island1, island2, island3])\n",
    "\n",
    "assignment: Assignment = {\n",
    "    (island1, island2): 1, # 1 bridge from island1 to island2\n",
    "    (island1, island3): None # no bridge count assigned yet\n",
    "}\n",
    "```"
   ]
  },
  {
   "cell_type": "code",
   "execution_count": 22,
   "id": "4944bcc3",
   "metadata": {},
   "outputs": [],
   "source": [
    "from hashiwokakero import Island, HashiwokakeroBoard, HashiwokakeroGameEngine\n",
    "\n",
    "type Var_PossibleBridge = Tuple[Island, Island]\n",
    "\n",
    "domain = (0, 1, 2)\n",
    "\n",
    "type Assignment = Dict[Var_PossibleBridge, Optional[int]]\n",
    "\n",
    "### Generelle Hilfsfunktionen ###\n",
    "\n",
    "def get_bridge_count(island: Island, assignment: Assignment) -> int:\n",
    "    \"\"\"\n",
    "    Gibt die Anzahl der Brücken zurück, die aktuell für eine Insel zugewiesen sind.\n",
    "    \"\"\"\n",
    "    return sum(val for var, val in assignment.items() if island in var and val is not None)\n",
    "\n",
    "def get_unassigned_vars(assignment: Assignment, island: Optional[Island] = None) -> List[Var_PossibleBridge]:\n",
    "    \"\"\"\n",
    "    Gibt eine Liste aller Variablen zurück, die unzugewiesen sind (und optional zu der angegebenen Insel gehören).\n",
    "\n",
    "    Args:\n",
    "        assignment (Assignment): Aktuelle Zuweisung der Variablen.\n",
    "        island (Optional[Island], optional): Wenn gegeben alle unzugewiesenen Variablen mit der gegebenen Insel. Defaults to None.\n",
    "    \"\"\"\n",
    "    return [var for var, val in assignment.items() if val is None and (island is None or island in var)]\n",
    "\n"
   ]
  },
  {
   "cell_type": "markdown",
   "id": "a86b3c8d",
   "metadata": {},
   "source": [
    "### 1. Prüfen der Insel-Erfüllbarkeit\n",
    "\n",
    "Berechnet die aktuelle Brückenanzahl einer Insel für ein Assignment und prüft ob das Inselziel noch erreichbar ist.\n",
    "\n"
   ]
  },
  {
   "cell_type": "code",
   "execution_count": 23,
   "id": "97b2164d",
   "metadata": {},
   "outputs": [],
   "source": [
    "\n",
    "def is_island_satisfiable(island: Island, assignment: Assignment) -> bool:\n",
    "\n",
    "    current_bridges = get_bridge_count(island, assignment)\n",
    "\n",
    "    # Kann geforderte Brückenanzahl nicht überschreiten\n",
    "    if current_bridges > island.value:\n",
    "        return False\n",
    "\n",
    "    remaining_needed = island.value - current_bridges\n",
    "\n",
    "    # Bereits erfüllt\n",
    "    if remaining_needed == 0:\n",
    "        return True\n",
    "\n",
    "    unassigned_vars = get_unassigned_vars(assignment, island)\n",
    "\n",
    "    # Prüfen ob Ziel noch erreichbar ist\n",
    "    max_possible_additional = len(unassigned_vars) * max(domain)\n",
    "\n",
    "    return max_possible_additional >= remaining_needed\n"
   ]
  },
  {
   "cell_type": "markdown",
   "id": "07f7866f",
   "metadata": {},
   "source": [
    "### 2. Überprüfung ob eine neue Brücke erstellt werden kann\n",
    "\n",
    "Prüft ob eine neue Brücke zwischen zwei Inseln erstellt werden kann, ohne eine bestehende Brücke zu kreuzen.\n",
    "\n",
    "Nutzt eine Hilfsfunktion `do_bridges_cross` um zu prüfen, ob zwei Brücken sich kreuzen.\n"
   ]
  },
  {
   "cell_type": "code",
   "execution_count": 24,
   "id": "d545c8be",
   "metadata": {},
   "outputs": [],
   "source": [
    "def do_bridges_cross(bridge1: Var_PossibleBridge, bridge2: Var_PossibleBridge) -> bool:\n",
    "\n",
    "    (island1_1, island1_2) = bridge1\n",
    "    (island2_1, island2_2) = bridge2\n",
    "\n",
    "    # Prüfen ob eine horizontal und eine vertikal ist\n",
    "    bridge1_horizontal = (island1_1.row == island1_2.row)\n",
    "    bridge2_horizontal = (island2_1.row == island2_2.row)\n",
    "\n",
    "    if bridge1_horizontal == bridge2_horizontal:\n",
    "        return False  # Beide horizontal oder beide vertikal - keine Kreuzung\n",
    "\n",
    "    # Je nachdem ob die erste Brücke horizontal oder vertikal ist, die Koordinaten setzen\n",
    "    # und die Grenzen der anderen Brücke bestimmen\n",
    "    if bridge1_horizontal:\n",
    "        h_row = island1_1.row\n",
    "        h_col_min, h_col_max = min(island1_1.col, island1_2.col), max(island1_1.col, island1_2.col)\n",
    "        v_col = island2_1.col\n",
    "        v_row_min, v_row_max = min(island2_1.row, island2_2.row), max(island2_1.row, island2_2.row)\n",
    "    else:\n",
    "        h_row = island2_1.row\n",
    "        h_col_min, h_col_max = min(island2_1.col, island2_2.col), max(island2_1.col, island2_2.col)\n",
    "        v_col = island1_1.col\n",
    "        v_row_min, v_row_max = min(island1_1.row, island1_2.row), max(island1_1.row, island1_2.row)\n",
    "\n",
    "    # Prüfen ob sie sich tatsächlich kreuzen\n",
    "    return (h_col_min < v_col < h_col_max) and (v_row_min < h_row < v_row_max)\n",
    "\n",
    "def no_bridge_crossing(assignment: Assignment, var: Var_PossibleBridge) -> bool:\n",
    "\n",
    "    active_bridges = [v for v, val in assignment.items()\n",
    "                     if val is not None and val > 0 and v != var]\n",
    "\n",
    "    return all(not do_bridges_cross(var, other_var) for other_var in active_bridges)"
   ]
  },
  {
   "cell_type": "markdown",
   "id": "4f03876c",
   "metadata": {},
   "source": [
    "### 3. Sicherheitsprüfung für ein Assignment\n",
    "\n",
    "Überprüft ein Assignment und stellt sicher, dass die verbundenen Inseln noch erfüllbar bleiben und das Assignment keine sich kreuzenden Brücken erstellt.\n"
   ]
  },
  {
   "cell_type": "code",
   "execution_count": 25,
   "id": "e9606353",
   "metadata": {},
   "outputs": [],
   "source": [
    "def is_assignment_consistent(assignment: Assignment, var: Var_PossibleBridge, value: int) -> bool:\n",
    "\n",
    "    # Temporäre Zuweisung erstellen\n",
    "    temp_assignment = assignment.copy()\n",
    "    temp_assignment[var] = value\n",
    "\n",
    "    # Beide durch diese Variable verbundenen Inseln prüfen\n",
    "    return (is_island_satisfiable(var[0], temp_assignment) and\n",
    "            is_island_satisfiable(var[1], temp_assignment) and\n",
    "            # Wenn mindestens eine Brücke gesetzt wird, verifizieren dass Brücke keine Kreuzung erstellt\n",
    "            (value == 0 or no_bridge_crossing(temp_assignment, var)))\n"
   ]
  },
  {
   "cell_type": "markdown",
   "id": "d341b71f",
   "metadata": {},
   "source": [
    "### 4. Gültige Domänenwerte ermitteln\n",
    "\n",
    "Testet alle möglichen Werte (0,1,2) für eine Brücke und filtert ungültige Optionen heraus. Gibt möglicherweise eine leere Liste zurück, wenn keine gültigen Werte gefunden wurden. Die Rückgabe ist von groß nach klein sortiert.\n"
   ]
  },
  {
   "cell_type": "code",
   "execution_count": 26,
   "id": "83aaca09",
   "metadata": {},
   "outputs": [],
   "source": [
    "def get_valid_domain_values(assignment: Assignment, var: Var_PossibleBridge) -> Iterable[int]:\n",
    "\n",
    "    # Werte in Reihenfolge der Präferenz testen (höhere Werte zuerst)\n",
    "    return filter(lambda v: is_assignment_consistent(assignment, var, v), reversed(domain))"
   ]
  },
  {
   "cell_type": "markdown",
   "id": "0346dd1a",
   "metadata": {},
   "source": [
    "### 5. Insel-Konnektivitätsprüfung\n",
    "\n",
    "Verwendet BFS um zu prüfen ob alle Inseln über Brücken erreichbar sind. Wenn `islands=Nonde` (default), werden nur Inseln geprüft, die bereits Brücken haben.\n"
   ]
  },
  {
   "cell_type": "code",
   "execution_count": 27,
   "id": "c968d095",
   "metadata": {},
   "outputs": [],
   "source": [
    "def check_island_connectivity(assignment: Assignment, islands: Optional[Iterable[Island]] = None) -> bool:\n",
    "    # Adjazenzgraph erstellen\n",
    "    graph = defaultdict(list)\n",
    "    if islands:\n",
    "        relevant_islands = set(islands)\n",
    "    else:\n",
    "        relevant_islands = set()\n",
    "    \n",
    "    for (id1, id2), bridges in assignment.items():\n",
    "        if bridges is not None and bridges > 0:\n",
    "            if islands is None:\n",
    "                relevant_islands.add(id1)\n",
    "                relevant_islands.add(id2)\n",
    "            graph[id1].append(id2)\n",
    "            graph[id2].append(id1)\n",
    "\n",
    "    # BFS zur Konnektivitätsprüfung\n",
    "    start_island = next(iter(relevant_islands), None)\n",
    "    visited = set([start_island])\n",
    "    frontier = deque([start_island])\n",
    "\n",
    "    while frontier and len(visited) != len(relevant_islands):\n",
    "        current = frontier.popleft()\n",
    "        for neighbor in graph[current]:\n",
    "            if neighbor not in visited:\n",
    "                visited.add(neighbor)\n",
    "                frontier.append(neighbor)\n",
    "\n",
    "    return len(visited) == len(relevant_islands)\n"
   ]
  },
  {
   "cell_type": "markdown",
   "id": "f810346a",
   "metadata": {},
   "source": [
    "### 6. Lösungsvalidierung\n",
    "\n",
    "Überprüft ob alle Insel-Constraints erfüllt sind und alle Inseln verbunden sind"
   ]
  },
  {
   "cell_type": "code",
   "execution_count": 28,
   "id": "9973ad2b",
   "metadata": {},
   "outputs": [],
   "source": [
    "def validate_complete_solution(board: HashiwokakeroBoard, assignment: Assignment) -> bool:\n",
    "\n",
    "    # Prüfen dass alle Inseln exakte Brückenanzahl haben\n",
    "    for island in board.islands:\n",
    "        current_bridges = sum(val for var, val in assignment.items() if island in var and val is not None)\n",
    "        if current_bridges != island.value:\n",
    "            return False\n",
    "\n",
    "    # Konnektivität für alle Inseln prüfen\n",
    "    return check_island_connectivity(assignment, board.islands)\n"
   ]
  },
  {
   "cell_type": "markdown",
   "id": "aa492192",
   "metadata": {},
   "source": [
    "### 7. Lösung auf Spiel anwenden\n",
    "\n",
    "Setzt das Spiel zurück und erstellt Brücken basierend auf der gegebenen Zuweisung\n"
   ]
  },
  {
   "cell_type": "code",
   "execution_count": 29,
   "id": "7c265428",
   "metadata": {},
   "outputs": [],
   "source": [
    "def apply_assignment_to_board(board: HashiwokakeroBoard, assignment: Assignment) -> None:\n",
    "\n",
    "    board.bridges = []\n",
    "    \n",
    "    for (island1, island2), bridges in assignment.items():\n",
    "        if bridges is not None and bridges > 0:\n",
    "            board.add_bridge(island1, island2, bridges)\n"
   ]
  },
  {
   "cell_type": "markdown",
   "id": "20e5c670",
   "metadata": {},
   "source": [
    "## Implementierung\n"
   ]
  },
  {
   "cell_type": "markdown",
   "id": "a9391fda",
   "metadata": {},
   "source": [
    "### **(02.2.1)**: Variablen-Sortierung\n",
    "\n",
    "*Für <mark>3</mark> Punkte*\n",
    "\n",
    "Implementiert die Funktion `order_variables_by_constraint`, die die möglichen Variablen sortiert. Verwendet hierfür eine Kombination aus den folgenden Heuristiken:\n",
    "- **MRV (Minimum Remaining Values) Heuristik**: Variablen mit **weniger gültigen Werten zuerst** bearbeitet werden sollten. \n",
    "- **Degree Heuristik**: am meisten eingeschränkte Inseln sollten zuerst betrachtet werden.\n",
    "\n",
    "Ihr könnt natürlich auch weitere Hilfsfunktionen verwenden, um die Sortierung zu implementieren."
   ]
  },
  {
   "cell_type": "code",
   "execution_count": 30,
   "id": "9c1a2426",
   "metadata": {},
   "outputs": [],
   "source": [
    "# Implementation Aufgabe 02.2.1\n",
    "\n",
    "def order_variables_by_constraint(assignment: Assignment, variables: List[Var_PossibleBridge]) -> List[Var_PossibleBridge]:\n",
    "    \"\"\"_summary_\n",
    "\n",
    "    Args:\n",
    "        assignment (Assignment): current assignment of the variables\n",
    "        variables (List[Var_PossibleBridge]): Unassigned variables to order\t\n",
    "\n",
    "    Returns:\n",
    "        List[Var_PossibleBridge]: A list of variables ordered by the MRV and degree heuristic.\n",
    "    \"\"\"\n",
    "    # TODO: Implement\n",
    "    # Sortiere die Variablen nach der Anzahl der unzugewiesenen Brücken\n",
    "\n",
    "    variables.sort(key=lambda var: (len(get_unassigned_vars(assignment, var[0])), \n",
    "                                     len(get_unassigned_vars(assignment, var[1]))), reverse=True)\n",
    "    \n",
    "    \n",
    "    \n",
    "    return variables \n"
   ]
  },
  {
   "cell_type": "markdown",
   "id": "f51e1ea1",
   "metadata": {},
   "source": [
    "\n",
    "#### Test für Aufgabe 02.2.1"
   ]
  },
  {
   "cell_type": "code",
   "execution_count": 31,
   "id": "74c8e4d8",
   "metadata": {},
   "outputs": [
    {
     "name": "stdout",
     "output_type": "stream",
     "text": [
      "Original variables:\n",
      "[(Island(row=0, col=1, value=4), Island(row=0, col=2, value=1)),\n",
      " (Island(row=0, col=1, value=4), Island(row=1, col=1, value=2)),\n",
      " (Island(row=0, col=0, value=1), Island(row=0, col=1, value=4))]\n",
      "Ordered variables:\n",
      "[(Island(row=0, col=1, value=4), Island(row=0, col=2, value=1)),\n",
      " (Island(row=0, col=1, value=4), Island(row=1, col=1, value=2)),\n",
      " (Island(row=0, col=0, value=1), Island(row=0, col=1, value=4))]\n",
      "✓ Test completed - check if most constrained variables are first\n",
      "\n"
     ]
    }
   ],
   "source": [
    "def test_order_variables_by_constraint():\n",
    "\n",
    "    island1 = Island(0, 0, 1)  # Wenig eingeschränkt\n",
    "    island2 = Island(0, 1, 4)  # Sehr eingeschränkt\n",
    "    island3 = Island(0, 2, 1)  # Wenig eingeschränkt\n",
    "    island4 = Island(1, 1, 2)  # Mittel eingeschränkt\n",
    "    assignment: Assignment = {\n",
    "        (island1, island2): None,\n",
    "        (island2, island3): None,\n",
    "        (island2, island4): None\n",
    "    }\n",
    "    variables = list(assignment.keys())\n",
    "\n",
    "\n",
    "    # Test ausführen\n",
    "    ordered = order_variables_by_constraint(assignment, variables)\n",
    "\n",
    "    print(f\"Original variables:\")\n",
    "    pprint(variables)\n",
    "    print(f\"Ordered variables:\")\n",
    "    pprint(ordered)\n",
    "    print(\"✓ Test completed - check if most constrained variables are first\")\n",
    "    print()\n",
    "\n",
    "test_order_variables_by_constraint()"
   ]
  },
  {
   "cell_type": "markdown",
   "id": "54c95db9",
   "metadata": {},
   "source": [
    "### **(02.2.2)** Backtracking-Suche\n",
    "\n",
    "*Für <mark>5</mark> Punkte*\n",
    "\n",
    "Implementieren Sie die Funktion `backtrack_search`, die den Backtracking-Algorithmus für das CSP Problem umsetzt.\n",
    "\n",
    "<details>\n",
    "<summary>Tipps</summary>\n",
    "\n",
    "- **Sortiert die unzugewiesenen Variablen** und wählt die erste Variable aus\n",
    "- Probiert **jeden gültigen Wert** in Reihenfolge und startet eine rekursive Suche\n",
    "- **Kopiert das `assignment`** vor jeder Veränderung\n",
    "\n",
    "</details>"
   ]
  },
  {
   "cell_type": "code",
   "execution_count": 32,
   "id": "72e25334",
   "metadata": {},
   "outputs": [],
   "source": [
    "def backtrack_search(board: HashiwokakeroBoard, assignment: Assignment,\n",
    "                    timeout_time: float) -> Tuple[bool, Assignment]:\n",
    "\n",
    "    if time.time() > timeout_time:\n",
    "        return False, assignment\n",
    "\n",
    "    # 1. Prüfen ob Zuweisung vollständig ist\n",
    "    unassigned_vars = get_unassigned_vars(assignment)\n",
    "    if not unassigned_vars:\n",
    "        # Prüfe ob Lösung gültig ist\n",
    "        if validate_complete_solution(board, assignment):\n",
    "            return True, assignment\n",
    "        else:\n",
    "            return False, assignment\n",
    "\n",
    "    # 2. Variablen sortieren (MRV + Degree)\n",
    "    ordered_vars = order_variables_by_constraint(assignment, unassigned_vars)\n",
    "    var = ordered_vars[0]\n",
    "\n",
    "    # 3. Für jeden gültigen Wert rekursiv versuchen\n",
    "    for value in get_valid_domain_values(assignment, var):\n",
    "        new_assignment = assignment.copy()\n",
    "        new_assignment[var] = value\n",
    "\n",
    "        # --- Forward Checking: Prüfe, ob alle unzugewiesenen Variablen noch mindestens einen gültigen Wert haben ---\n",
    "        forward_check_ok = True\n",
    "        for v in get_unassigned_vars(new_assignment):\n",
    "            if not list(get_valid_domain_values(new_assignment, v)):\n",
    "                forward_check_ok = False\n",
    "                break\n",
    "        if not forward_check_ok:\n",
    "            continue\n",
    "        # --- Ende Forward Checking ---\n",
    "\n",
    "        success, result_assignment = backtrack_search(board, new_assignment, timeout_time)\n",
    "        if success:\n",
    "            return True, result_assignment\n",
    "\n",
    "    return False, assignment  \n"
   ]
  },
  {
   "cell_type": "code",
   "execution_count": 33,
   "id": "972c3a9a",
   "metadata": {},
   "outputs": [],
   "source": [
    "def backtrack_search(board: HashiwokakeroBoard, assignment: Assignment,\n",
    "                    timeout_time: float) -> Tuple[bool, Assignment]:\n",
    "\n",
    "    if time.time() > timeout_time:\n",
    "        return False, assignment\n",
    "\n",
    "    # 1. Prüfen ob Zuweisung vollständig ist\n",
    "    unassigned_vars = get_unassigned_vars(assignment)\n",
    "    if not unassigned_vars:\n",
    "        # Prüfe ob Lösung gültig ist\n",
    "        if validate_complete_solution(board, assignment):\n",
    "            return True, assignment\n",
    "        else:\n",
    "            return False, assignment\n",
    "\n",
    "    # 2. Variablen sortieren (MRV + Degree)\n",
    "    ordered_vars = order_variables_by_constraint(assignment, unassigned_vars)\n",
    "    var = ordered_vars[0]\n",
    "\n",
    "    # 3. Für jeden gültigen Wert rekursiv versuchen\n",
    "    for value in get_valid_domain_values(assignment, var):\n",
    "        new_assignment = assignment.copy()\n",
    "        new_assignment[var] = value\n",
    "\n",
    "        # --- Forward Checking: Prüfe, ob alle unzugewiesenen Variablen noch mindestens einen gültigen Wert haben ---\n",
    "        forward_check_ok = True\n",
    "        for v in get_unassigned_vars(new_assignment):\n",
    "            if not list(get_valid_domain_values(new_assignment, v)):\n",
    "                forward_check_ok = False\n",
    "                break\n",
    "        if not forward_check_ok:\n",
    "            continue\n",
    "        # --- Ende Forward Checking ---\n",
    "\n",
    "        success, result_assignment = backtrack_search(board, new_assignment, timeout_time)\n",
    "        if success:\n",
    "            return True, result_assignment\n",
    "\n",
    "    return False, assignment  \n"
   ]
  },
  {
   "cell_type": "markdown",
   "id": "8fc4f184",
   "metadata": {},
   "source": [
    "#### Test für 02.2.2"
   ]
  },
  {
   "cell_type": "code",
   "execution_count": 34,
   "id": "a7fe0a75",
   "metadata": {},
   "outputs": [
    {
     "name": "stdout",
     "output_type": "stream",
     "text": [
      "Search successful: True\n",
      "Final assignment:\n",
      "{(Island(row=0, col=0, value=2), Island(row=1, col=0, value=1)): 1,\n",
      " (Island(row=0, col=0, value=2), Island(row=0, col=1, value=1)): 1}\n",
      "✓ Test completed - check if backtracking logic works\n"
     ]
    }
   ],
   "source": [
    "def test_backtrack_search():\n",
    "        \n",
    "    island1 = Island(0, 0, 2)\n",
    "    island2 = Island(0, 1, 1) \n",
    "    island3 = Island(1, 0, 1)\n",
    "    board = HashiwokakeroBoard(islands=[island1, island2, island3])\n",
    "    \n",
    "    assignment: Assignment = {\n",
    "        (island1, island2): None,\n",
    "        (island1, island3): None\n",
    "    }\n",
    "    timeout_time = time.time() + 10\n",
    "\n",
    "    success, final_assignment = backtrack_search(board, assignment, timeout_time)\n",
    "    print(f\"Search successful: {success}\")\n",
    "    print(f\"Final assignment:\")\n",
    "    pprint(final_assignment)\n",
    "    print(\"✓ Test completed - check if backtracking logic works\")\n",
    "\n",
    "test_backtrack_search()"
   ]
  },
  {
   "cell_type": "markdown",
   "id": "03edd3f1",
   "metadata": {},
   "source": [
    "### **(02.2.3)** Haupt-Lösungsfunktion\n",
    "*Für <mark>3</mark> Punkte*\n",
    "\n",
    "Implementieren Sie die Funktion `solve_hashiwokakero`, die den gesamten CSP-Solver orchestriert. Diese Funktion sollte alle vorher implementierten Funktionen aufrufen und die Lösung auf das Spielfeld anwenden, falls eine gefunden wurde.\n",
    "\n",
    "<details>\n",
    "<summary>Tipps</summary>\n",
    "\n",
    "- **Erstellt ein initiales Assignment wo alle Variablen noch nicht zugewiesen sind** und nutzt dafür die Hilfsfunktion `board.find_potential_connections()`\n",
    "- **Erstellt ein timeout** wann der solver abbrechen soll, um eine endlose Suche zu vermeiden (z.B. 60 Sekunden)\n",
    "- **Ruft die Funktion `backtrack_search`** auf und übergibt das initiale Assignment sowie die maximale Laufzeit\n",
    "- **Wenn eine Lösung gefunden wurde, wendet sie auf das Spielbrett an** mit der Funktion `apply_assignment_to_board`\n",
    "\n",
    "</details>"
   ]
  },
  {
   "cell_type": "markdown",
   "id": "fd4622b5",
   "metadata": {},
   "source": [
    "#### Test für Aufgabe 02.2.3"
   ]
  },
  {
   "cell_type": "markdown",
   "id": "46a1866d",
   "metadata": {},
   "source": [
    "Folgendes Spielbrett wird für den Testaufruf verwendet:\n",
    "\n",
    "![](https://upload.wikimedia.org/wikipedia/commons/d/d9/Ejemplo_hashiwokakero_5x5.PNG)"
   ]
  },
  {
   "cell_type": "code",
   "execution_count": 35,
   "id": "4c843b92",
   "metadata": {},
   "outputs": [
    {
     "name": "stdout",
     "output_type": "stream",
     "text": [
      "=== Test: Main Solver Function ===\n",
      "Starting CSP solver...\n",
      "Solver completed: False\n",
      "Final bridges:\n",
      "[]\n",
      "✓ Test completed - check if main solver coordinates all functions\n",
      "\n"
     ]
    }
   ],
   "source": [
    "def test_solve_hashiwokakero(verbose=True):\n",
    "    \"\"\"Test der Hauptlösungsfunktion\"\"\"\n",
    "    if verbose:\n",
    "        print(\"=== Test: Main Solver Function ===\")\n",
    "\n",
    "    # Einfaches Test-Setup ohne pygame\n",
    "\n",
    "    board = HashiwokakeroBoard.from_tuple_definition(\n",
    "        [\n",
    "            (0, 0, 1),\n",
    "            (0, 1, 2),\n",
    "            (0, 2, 1),\n",
    "            (1, 0, 3),\n",
    "            (1, 1, 8),\n",
    "            (1, 2, 5),\n",
    "            (2, 0, 2),\n",
    "            (2, 1, 6),\n",
    "            (2, 2, 4)\n",
    "        ],\n",
    "        grid_size=3\n",
    "    )\n",
    "\n",
    "    success = solve_hashiwokakero(board)\n",
    "\n",
    "    print(f\"Solver completed: {success}\")\n",
    "    print(f\"Final bridges:\")\n",
    "    pprint(board.bridges)\n",
    "    print(\"✓ Test completed - check if main solver coordinates all functions\")\n",
    "    print()\n",
    "\n",
    "\n",
    "test_solve_hashiwokakero()"
   ]
  },
  {
   "cell_type": "markdown",
   "id": "8a676dfd",
   "metadata": {},
   "source": [
    "### Spielaufruf\n",
    "\n",
    "Nun da ihr die Implementierung des CSP-Solvers abgeschlossen haben, könnt Ihr das Spiel aufrufen und die Puzzles automatisch lösen!\n",
    "\n",
    "#### Controls:\n",
    "- Drücke **'S'** um das aktuelle Puzzle zu lösen\n",
    "- Drücke **'R'** um das Puzzle zurückzusetzen\n",
    "- Drücke **'1'**, **'2'**, **'3'** um verschiedene Puzzles zu laden"
   ]
  },
  {
   "cell_type": "code",
   "execution_count": null,
   "id": "bdb1a9c6",
   "metadata": {},
   "outputs": [
    {
     "name": "stdout",
     "output_type": "stream",
     "text": [
      "=== Hashiwokakero CSP Solver ===\n",
      "Controls:\n",
      "- Press 'S' to solve current puzzle\n",
      "- Press 'R' to reset puzzle\n",
      "- Press '1' to load puzzle 1\n",
      "- Press '2' to load puzzle 2\n",
      "- Press '3' to load puzzle 3\n",
      "- Press ESC or close window to quit\n",
      "\n",
      "Starting CSP solver...\n",
      "Puzzle solved!\n",
      "Starting CSP solver...\n",
      "Puzzle solved!\n"
     ]
    }
   ],
   "source": [
    "def main():\n",
    "    \"\"\"\n",
    "    Vereinfachte Hauptfunktion für Spielausführung\n",
    "    \"\"\"\n",
    "    # Spiel erstellen\n",
    "    game = HashiwokakeroGameEngine(solve=solve_hashiwokakero)\n",
    "\n",
    "    print(\"=== Hashiwokakero CSP Solver ===\")\n",
    "    print(\"Controls:\")\n",
    "    print(\"- Press 'S' to solve current puzzle\")\n",
    "    print(\"- Press 'R' to reset puzzle\")\n",
    "    print(\"- Press '1' to load puzzle 1\")\n",
    "    print(\"- Press '2' to load puzzle 2\")\n",
    "    print(\"- Press '3' to load puzzle 3\")\n",
    "    print(\"- Press ESC or close window to quit\")\n",
    "    print()\n",
    "    \n",
    "    game.run()\n",
    "\n",
    "\n",
    "main()"
   ]
  },
  {
   "cell_type": "markdown",
   "id": "8958c2e4",
   "metadata": {},
   "source": [
    "### **(02.2.4)** Schwachstellen der Implementierung\n",
    "*Für <mark>4</mark> Punkte*\n",
    "\n",
    "In dieser gesamten Aufgaben haben wir einen einfachen CSP-Solver für das Hashiwokakero-Puzzle implementiert. Die Umsetzung ist aber nicht unbedingt optimal und kann in einigen Fällen ineffizient sein. Das merkt ihr vermutlich auch, wenn ihr das `puzzle3` lösen lasst.\n",
    "\n",
    "Nennt **zwei** mögliche Schwachstellen der Implementierung und Lösungsansätze um diese zu beheben."
   ]
  },
  {
   "cell_type": "markdown",
   "id": "ceb3e4bf",
   "metadata": {},
   "source": [
    "> 1. Bei sehr großen Boards könnte es zu Problemen kommen, da das Programm in der rekursiven backtracking Suche die maximale Rekursionstiefe von Python übersteigt. Lösen könnte man das mit dem Ansatz, indem man das Puzzle in mehrere kleinere Teilpuzzles aufteilt und diese dann einzeln löst. \n",
    "> Hierbei muss dann aber berücksichtigt werden, dass das Puzzle durch manche sehr lange (mögliche) Brücken sehr kompliziert werden kann und ein Algorithmus zur Wahl von unabhängigen Teilpuzzles entsprechend kompliziert ist.\n",
    "> 2. Eine weitere Schwachstelle des CSP-Solvers ist es, dass dieser jede iteration das gesamte Board auf Legalität testet und somit extrem viel Rechenleistung verschwendet. Wesentlich sinnvoller wäre es, nur bei der Änderung relevante Tests durchzuführen. Somit könnte man massiv Laufzeit einsparen."
   ]
  },
  {
   "cell_type": "markdown",
   "id": "e9a57a2b",
   "metadata": {},
   "source": [
    "> "
   ]
  }
 ],
 "metadata": {
  "kernelspec": {
   "display_name": "Python 3",
   "language": "python",
   "name": "python3"
  },
  "language_info": {
   "codemirror_mode": {
    "name": "ipython",
    "version": 3
   },
   "file_extension": ".py",
   "mimetype": "text/x-python",
   "name": "python",
   "nbconvert_exporter": "python",
   "pygments_lexer": "ipython3",
   "version": "3.12.6"
  }
 },
 "nbformat": 4,
 "nbformat_minor": 5
}
