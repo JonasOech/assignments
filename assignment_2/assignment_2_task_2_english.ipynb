{
 "cells": [
  {
   "cell_type": "markdown",
   "id": "e9d8d984",
   "metadata": {},
   "source": [
    "<img src=\"images/logo.png\" width=\"200\">"
   ]
  },
  {
   "cell_type": "markdown",
   "id": "501d2007",
   "metadata": {},
   "source": [
    "# KogSys-KI-B - Assignment 2\n",
    "\n",
    "### Adversarial Search, Constraint Satisfaction Problems\n",
    "\n",
    "_Abgabefrist: **15.06.2025**_\n",
    "\n",
    "---\n",
    "\n"
   ]
  },
  {
   "cell_type": "markdown",
   "id": "0d509b94",
   "metadata": {},
   "source": [
    "#### Submission Information\n",
    "\n",
    "Upload your solution via the VC course. Please upload **one Zip** archive per group. This must contain:\n",
    "\n",
    "- Your solution as **Notebook** (a `.inpynb` file)\n",
    "- A folder named **images** with all your images, if you used any (keep the image sizes relatively small)\n",
    "\n",
    "Your Zip file should be named as follows:\n",
    "\n",
    "```\n",
    "assignment_<assignment number>_solution_<group number>.zip\n",
    "```\n",
    "\n",
    "In this assignment, you can achieve a total of **30** points. From these points, **3 bonus points** for the exam will be calculated as follows:\n",
    "\n",
    "| **Points in Assignment** | **Bonus Points for Exam** |\n",
    "| :----------------------: | :-----------------------: |\n",
    "|            30            |             3             |\n",
    "|            25            |            2.5            |\n",
    "|            20            |             2             |\n",
    "|            15            |            1.5            |\n",
    "|            10            |             1             |\n",
    "|            5             |            0.5            |"
   ]
  },
  {
   "cell_type": "markdown",
   "id": "ff990221",
   "metadata": {},
   "source": [
    "<div class='alert alert-block alert-danger'>\n",
    "\n",
    "##### **Important Notes**\n",
    "\n",
    "1. **This assignment is graded. You can earn bonus points for the exam.**\n",
    "2. **If it is evident that an assignment was copied from another source and no independent work was done, no bonus points will be awarded. Please formulate all answers in your own words!**\n",
    "3. **If LLMs (such as ChatGPT or Copilot) were used to create your submission, please indicate this in accordance with common scientific practices. See also the [AI Policy in the VC Course](https://vc.uni-bamberg.de/mod/page/view.php?id=1980835)**"
   ]
  },
  {
   "cell_type": "markdown",
   "id": "47d04083",
   "metadata": {},
   "source": [
    "### Setup"
   ]
  },
  {
   "cell_type": "markdown",
   "id": "f0356be5",
   "metadata": {},
   "source": [
    "To setup your assignment, you need to install the required dependencies, specified in `requirements.txt`. You can do this by executing the following code cell."
   ]
  },
  {
   "cell_type": "code",
   "execution_count": null,
   "id": "b13f400f",
   "metadata": {},
   "outputs": [],
   "source": [
    "# Installiert die benötigten Pakete mit dem akutell ausgewählten Python-Interpreter\n",
    "%pip install -U -r requirements.txt"
   ]
  },
  {
   "cell_type": "markdown",
   "id": "ea5f8a86",
   "metadata": {},
   "source": [
    "# Aufgabe 2 - Constraint Satisfaction Problems (CSP) with the example \"Hashiwokakero\"\n",
    "\n",
    "_For totally <mark>15</mark> points_\n",
    "\n",
    "This task implements a **Constraint Satisfaction Problem (CSP) solver** for the [Hashiwokakero puzzle game](https://en.wikipedia.org/wiki/Hashiwokakero). Your task is to complete the CSP solver implementation.\n",
    "\n",
    "You can try playing the game here: https://www.hashi.info/.\n",
    "\n",
    "## CSP formulation:\n",
    "* **Variables (X)**: Potential bridges between neighboring islands\n",
    "* **Domains (D)**: Number of bridges (0, 1, or 2) between pairs of islands\n",
    "* **Constraints (C)**:\n",
    "  - Each island must have exactly the number of bridges indicated by its value\n",
    "  - Bridges cannot cross each other\n",
    "  - Bridges can only run horizontally or vertically\n",
    "  - All islands must be connected to form a connected graph\n"
   ]
  },
  {
   "cell_type": "markdown",
   "id": "ef200016",
   "metadata": {},
   "source": [
    "#### Library imports"
   ]
  },
  {
   "cell_type": "markdown",
   "id": "221be084",
   "metadata": {},
   "source": [
    "The following library imports may be used throughout this task. Do not use any third-party libraries.\n",
    "\n",
    "- `collections.deque` and `collections.defaultdict`: These are used for implementing the data structures needed for connectivity checking.\n",
    "- `time`: This is used to implement a timeout for the CSP solver.\n",
    "- `typing.List`, `typing.Tuple`, `typing.Dict`, `typing.Optional` und `typing.Iterable`: These are used for type annotations in method specifications.\n",
    "- `pprint`: Used for printing data structures in a more readable format.\n",
    "\n",
    "\n",
    "**_Nothing needs to be changed in the next code cell._**"
   ]
  },
  {
   "cell_type": "code",
   "execution_count": null,
   "id": "61444606",
   "metadata": {},
   "outputs": [],
   "source": [
    "from collections import deque, defaultdict\n",
    "import time\n",
    "from typing import List, Tuple, Dict, Optional, Iterable\n",
    "from pprint import pprint"
   ]
  },
  {
   "cell_type": "markdown",
   "id": "a3f9e7b4",
   "metadata": {},
   "source": [
    "## Given Helper Functions\n",
    "\n",
    "**_The helper functions do not need to be changed. However, try to understand them so you can use them when necessary._**\n"
   ]
  },
  {
   "cell_type": "markdown",
   "id": "f04109a8",
   "metadata": {},
   "source": [
    "### 0. Data Structures and Game Board\n",
    "\n",
    "* Given data structures of the game board:\n",
    "  * The `Island` class contains the position and it's required number of bridges. \n",
    "  * The `HashiwokakeroBoard` is the implementation of the game board. It contains logic to:\n",
    "    * get an island from specific coordinates (`get_island`),\n",
    "    * add bridges (`add_bridge`),\n",
    "    * get all possible connections between islands (`find_potential_connections`).\n",
    "  * The `HashiwokakeroGameEngine` implements the game's display and interactions using pygame:\n",
    "    * `solve` in the constructor is a function intended to solve the CSP (Constraint Satisfaction Problem).\n",
    "    * `run` starts the game and displays the game board.\\\n",
    "      In this mode, several shortcuts are available, described under [Game Launch](#game-launch).\n",
    "    * `board` is the current game board.\n",
    "    * `load_puzzle` loads a puzzle by name (`puzzle1`, `puzzle2`, or `puzzle3`) or with a list of islands in the format `list[tuple[row: int, col: int, value: int]]`.\n",
    "  * Data structures for the CSP solver:\n",
    "    * **`type Var_PossibleBridge`**: Represents a possible bridge between two islands. (Variable `x` of the CSP)\n",
    "    * **`domain`**: All possible values for a variable (number of bridges between two islands: 0, 1, or 2).\n",
    "    * **`type Assignment`**: Represents an assignment of variables to values. It is a dictionary that assigns the possible bridges (`Var_PossibleBridge`) to values from the `domain` or `None` if the variable is not yet assigned.\\\n",
    "      Helper functions for working with `Assignment`:\n",
    "      * `get_bridge_count`: Determines the number of bridges for an `Island` in an `Assignment`.\n",
    "      * `get_unassigned_vars`: Returns a list of all unassigned variables in an `Assignment`. Optionally for a specific `Island`.\n",
    "\n",
    "Example:\n",
    "```python\n",
    "#                row, col, value\n",
    "island1 = Island(0,   0,   2    )\n",
    "island2 = Island(0,   1,   1    ) \n",
    "island3 = Island(1,   0,   1    )\n",
    "board = HashiwokakeroBoard(islands=[island1, island2, island3])\n",
    "\n",
    "assignment: Assignment = {\n",
    "    (island1, island2): 1, # 1 bridge from island1 to island2\n",
    "    (island1, island3): None # no bridge count assigned yet\n",
    "}\n",
    "```"
   ]
  },
  {
   "cell_type": "code",
   "execution_count": null,
   "id": "4944bcc3",
   "metadata": {},
   "outputs": [],
   "source": [
    "from hashiwokakero import Island, HashiwokakeroBoard, HashiwokakeroGameEngine\n",
    "\n",
    "type Var_PossibleBridge = Tuple[Island, Island]\n",
    "\n",
    "domain = (0, 1, 2)\n",
    "\n",
    "type Assignment = Dict[Var_PossibleBridge, Optional[int]]\n",
    "\n",
    "### General Helper functions ###\n",
    "\n",
    "def get_bridge_count(island: Island, assignment: Assignment) -> int:\n",
    "    \"\"\"\n",
    "    Gibt die Anzahl der Brücken zurück, die aktuell für eine Insel zugewiesen sind.\n",
    "    \"\"\"\n",
    "    return sum(val for var, val in assignment.items() if island in var and val is not None)\n",
    "\n",
    "def get_unassigned_vars(assignment: Assignment, island: Optional[Island] = None) -> List[Var_PossibleBridge]:\n",
    "    \"\"\"\n",
    "    Gibt eine Liste aller Variablen zurück, die unzugewiesen sind (und optional zu der angegebenen Insel gehören).\n",
    "\n",
    "    Args:\n",
    "        assignment (Assignment): Aktuelle Zuweisung der Variablen.\n",
    "        island (Optional[Island], optional): Wenn gegeben alle unzugewiesenen Variablen mit der gegebenen Insel. Defaults to None.\n",
    "    \"\"\"\n",
    "    return [var for var, val in assignment.items() if island is None or (island in var and val is None)]"
   ]
  },
  {
   "cell_type": "markdown",
   "id": "a86b3c8d",
   "metadata": {},
   "source": [
    "### 1. Checking Island Satisfiability\n",
    "\n",
    "Calculates the current number of bridges for an island in an assignment and checks if the island's target is still reachable.\n"
   ]
  },
  {
   "cell_type": "code",
   "execution_count": null,
   "id": "97b2164d",
   "metadata": {},
   "outputs": [],
   "source": [
    "\n",
    "def is_island_satisfiable(island: Island, assignment: Assignment) -> bool:\n",
    "\n",
    "    current_bridges = get_bridge_count(island, assignment)\n",
    "\n",
    "    # Kann geforderte Brückenanzahl nicht überschreiten\n",
    "    if current_bridges > island.value:\n",
    "        return False\n",
    "\n",
    "    remaining_needed = island.value - current_bridges\n",
    "\n",
    "    # Bereits erfüllt\n",
    "    if remaining_needed == 0:\n",
    "        return True\n",
    "\n",
    "    unassigned_vars = get_unassigned_vars(assignment, island)\n",
    "\n",
    "    # Prüfen ob Ziel noch erreichbar ist\n",
    "    max_possible_additional = len(unassigned_vars) * max(domain)\n",
    "\n",
    "    return max_possible_additional >= remaining_needed\n"
   ]
  },
  {
   "cell_type": "markdown",
   "id": "07f7866f",
   "metadata": {},
   "source": [
    "### 2. Check if a new bridge can be created\n",
    "\n",
    "Checks if a new bridge can be created between two islands without crossing an existing bridge.\n",
    "\n",
    "Uses a helper function `do_bridges_cross` to check if two bridges cross each other.\n",
    "\n"
   ]
  },
  {
   "cell_type": "code",
   "execution_count": null,
   "id": "d545c8be",
   "metadata": {},
   "outputs": [],
   "source": [
    "def do_bridges_cross(bridge1: Var_PossibleBridge, bridge2: Var_PossibleBridge) -> bool:\n",
    "\n",
    "    (island1_1, island1_2) = bridge1\n",
    "    (island2_1, island2_2) = bridge2\n",
    "\n",
    "    # Calculate if the bridges are horizontal or vertical\n",
    "    bridge1_horizontal = (island1_1.row == island1_2.row)\n",
    "    bridge2_horizontal = (island2_1.row == island2_2.row)\n",
    "\n",
    "    if bridge1_horizontal == bridge2_horizontal:\n",
    "        return False  # Both bridges are either horizontal or vertical, so they cannot cross\n",
    "\n",
    "    # Depending on whether the first bridge is horizontal or vertical, set the coordinates\n",
    "    # and determine the boundaries of the other bridge\n",
    "    if bridge1_horizontal:\n",
    "        h_row = island1_1.row\n",
    "        h_col_min, h_col_max = min(island1_1.col, island1_2.col), max(island1_1.col, island1_2.col)\n",
    "        v_col = island2_1.col\n",
    "        v_row_min, v_row_max = min(island2_1.row, island2_2.row), max(island2_1.row, island2_2.row)\n",
    "    else:\n",
    "        h_row = island2_1.row\n",
    "        h_col_min, h_col_max = min(island2_1.col, island2_2.col), max(island2_1.col, island2_2.col)\n",
    "        v_col = island1_1.col\n",
    "        v_row_min, v_row_max = min(island1_1.row, island1_2.row), max(island1_1.row, island1_2.row)\n",
    "\n",
    "    # Check if they cross\n",
    "    return (h_col_min < v_col < h_col_max) and (v_row_min < h_row < v_row_max)\n",
    "\n",
    "def no_bridge_crossing(assignment: Assignment, var: Var_PossibleBridge) -> bool:\n",
    "\n",
    "    active_bridges = [v for v, val in assignment.items()\n",
    "                     if val is not None and val > 0 and v != var]\n",
    "\n",
    "    return all(not do_bridges_cross(var, other_var) for other_var in active_bridges)"
   ]
  },
  {
   "cell_type": "markdown",
   "id": "4f03876c",
   "metadata": {},
   "source": [
    "### 3. Sicherheitsprüfung für ein Assignment\n",
    "\n",
    "Checks the assignment for a new bridge and ensures that the connected islands remain satisfiable and that the assignment does not create crossing bridges."
   ]
  },
  {
   "cell_type": "code",
   "execution_count": null,
   "id": "e9606353",
   "metadata": {},
   "outputs": [],
   "source": [
    "def is_assignment_consistent(assignment: Assignment, var: Var_PossibleBridge, value: int) -> bool:\n",
    "\n",
    "    # Create a temporary assignment to check consistency\n",
    "    temp_assignment = assignment.copy()\n",
    "    temp_assignment[var] = value\n",
    "\n",
    "    # Check if both islands are still satisfiable with the new assignment\n",
    "    return (is_island_satisfiable(var[0], temp_assignment) and\n",
    "            is_island_satisfiable(var[1], temp_assignment) and\n",
    "            # If at least one bridge is set, verify that it does not create a crossing\n",
    "            (value == 0 or no_bridge_crossing(temp_assignment, var)))\n"
   ]
  },
  {
   "cell_type": "markdown",
   "id": "d341b71f",
   "metadata": {},
   "source": [
    "### 4. Find Valid Domain Values\n",
    "\n",
    "\n",
    "Tests all possible domain values (0, 1, 2) for a bridge and filters out invalid options. It may return an empty list if no valid values are found. The return value is sorted from high to low."
   ]
  },
  {
   "cell_type": "code",
   "execution_count": null,
   "id": "83aaca09",
   "metadata": {},
   "outputs": [],
   "source": [
    "def get_valid_domain_values(assignment: Assignment, var: Var_PossibleBridge) -> Iterable[int]:\n",
    "\n",
    "    # Werte in Reihenfolge der Präferenz testen (höhere Werte zuerst)\n",
    "    return filter(lambda v: is_assignment_consistent(assignment, var, v), reversed(domain))"
   ]
  },
  {
   "cell_type": "markdown",
   "id": "0346dd1a",
   "metadata": {},
   "source": [
    "### 5. Check Island Connectivity\n",
    "\n",
    "Uses breadth-first search (BFS) to check if all islands are reachable via bridges. If `islands=None` (default), only islands that already have bridges are checked.\n"
   ]
  },
  {
   "cell_type": "code",
   "execution_count": null,
   "id": "c968d095",
   "metadata": {},
   "outputs": [],
   "source": [
    "def check_island_connectivity(assignment: Assignment, islands: Optional[Iterable[Island]] = None) -> bool:\n",
    "    # Adjazenzgraph erstellen\n",
    "    graph = defaultdict(list)\n",
    "    if islands:\n",
    "        relevant_islands = set(islands)\n",
    "    else:\n",
    "        relevant_islands = set()\n",
    "    \n",
    "    for (id1, id2), bridges in assignment.items():\n",
    "        if bridges is not None and bridges > 0:\n",
    "            if islands is None:\n",
    "                relevant_islands.add(id1)\n",
    "                relevant_islands.add(id2)\n",
    "            graph[id1].append(id2)\n",
    "            graph[id2].append(id1)\n",
    "\n",
    "    # BFS zur Konnektivitätsprüfung\n",
    "    start_island = next(iter(relevant_islands), None)\n",
    "    visited = set([start_island])\n",
    "    frontier = deque([start_island])\n",
    "\n",
    "    while frontier and len(visited) != len(relevant_islands):\n",
    "        current = frontier.popleft()\n",
    "        for neighbor in graph[current]:\n",
    "            if neighbor not in visited:\n",
    "                visited.add(neighbor)\n",
    "                frontier.append(neighbor)\n",
    "\n",
    "    return len(visited) == len(relevant_islands)\n"
   ]
  },
  {
   "cell_type": "markdown",
   "id": "f810346a",
   "metadata": {},
   "source": [
    "### 6. Validate Solution\n",
    "\n",
    "Checks if all islands have the correct number of bridges and if all islands are connected."
   ]
  },
  {
   "cell_type": "code",
   "execution_count": null,
   "id": "9973ad2b",
   "metadata": {},
   "outputs": [],
   "source": [
    "def validate_complete_solution(board: HashiwokakeroBoard, assignment: Assignment) -> bool:\n",
    "\n",
    "    # Prüfen dass alle Inseln exakte Brückenanzahl haben\n",
    "    for island in board.islands:\n",
    "        current_bridges = sum(val for var, val in assignment.items() if island in var and val is not None)\n",
    "        if current_bridges != island.value:\n",
    "            return False\n",
    "\n",
    "    # Konnektivität für alle Inseln prüfen\n",
    "    return check_island_connectivity(assignment, board.islands)\n"
   ]
  },
  {
   "cell_type": "markdown",
   "id": "aa492192",
   "metadata": {},
   "source": [
    "### 7. Apply Solution to Game\n",
    "\n",
    "Resets the game board and creates bridges based on the given assignment."
   ]
  },
  {
   "cell_type": "code",
   "execution_count": null,
   "id": "7c265428",
   "metadata": {},
   "outputs": [],
   "source": [
    "def apply_assignment_to_board(board: HashiwokakeroBoard, assignment: Assignment) -> None:\n",
    "\n",
    "    board.bridges = []\n",
    "    \n",
    "    for (island1, island2), bridges in assignment.items():\n",
    "        if bridges is not None and bridges > 0:\n",
    "            board.add_bridge(island1, island2, bridges)\n"
   ]
  },
  {
   "cell_type": "markdown",
   "id": "20e5c670",
   "metadata": {},
   "source": [
    "## Implementation\n"
   ]
  },
  {
   "cell_type": "markdown",
   "id": "a9391fda",
   "metadata": {},
   "source": [
    "### **(02.2.1)**: Variable-Sorting\n",
    "\n",
    "*For <mark>3</mark> points*\n",
    "\n",
    "Implement the function `order_variables_by_constraint`, which sorts the possible variables. Use a combination of the following heuristics for this:\n",
    "\n",
    "* **MRV (Minimum Remaining Values) heuristic**: Variables with **fewer valid values should be processed first**.\n",
    "* **Degree heuristic**: The most constrained islands should be considered first.\n",
    "\n",
    "Of course, you may also use additional helper functions to implement the sorting.\n"
   ]
  },
  {
   "cell_type": "code",
   "execution_count": null,
   "id": "9c1a2426",
   "metadata": {},
   "outputs": [],
   "source": [
    "# Implementation Task 02.2.1\n",
    "\n",
    "def order_variables_by_constraint(assignment: Assignment, variables: List[Var_PossibleBridge]) -> List[Var_PossibleBridge]:\n",
    "    \"\"\"_summary_\n",
    "\n",
    "    Args:\n",
    "        assignment (Assignment): current assignment of the variables\n",
    "        variables (List[Var_PossibleBridge]): Unassigned variables to order\t\n",
    "\n",
    "    Returns:\n",
    "        List[Var_PossibleBridge]: A list of variables ordered by the MRV and degree heuristic.\n",
    "    \"\"\"\n",
    "    # TODO: Implement\n",
    "    return variables \n"
   ]
  },
  {
   "cell_type": "markdown",
   "id": "f51e1ea1",
   "metadata": {},
   "source": [
    "\n",
    "#### Test for task 02.2.1"
   ]
  },
  {
   "cell_type": "code",
   "execution_count": null,
   "id": "74c8e4d8",
   "metadata": {},
   "outputs": [],
   "source": [
    "def test_order_variables_by_constraint():\n",
    "\n",
    "    island1 = Island(0, 0, 1)  # Least constrained\n",
    "    island2 = Island(0, 1, 4)  # Most constrained\n",
    "    island3 = Island(0, 2, 1)  # Least constrained\n",
    "    island4 = Island(1, 1, 2)  # Average constrained\n",
    "    assignment: Assignment = {\n",
    "        (island1, island2): None,\n",
    "        (island2, island3): None,\n",
    "        (island2, island4): None\n",
    "    }\n",
    "    variables = list(assignment.keys())\n",
    "\n",
    "\n",
    "    # Execute the function to test\n",
    "    ordered = order_variables_by_constraint(assignment, variables)\n",
    "\n",
    "    print(f\"Original variables:\")\n",
    "    pprint(variables)\n",
    "    print(f\"Ordered variables:\")\n",
    "    pprint(ordered)\n",
    "    print(\"✓ Test completed - check if most constrained variables are first\")\n",
    "    print()\n",
    "\n",
    "test_order_variables_by_constraint()"
   ]
  },
  {
   "cell_type": "markdown",
   "id": "54c95db9",
   "metadata": {},
   "source": [
    "### **(02.2.2)** Backtracking Search\n",
    "\n",
    "*For <mark>5</mark> points*\n",
    "\n",
    "Implement the function `backtrack_search`, which implements the backtracking algorithm for the CSP problem.\n",
    "\n",
    "<details>\n",
    "<summary>Hints</summary>\n",
    "\n",
    "* **Sort the unassigned variables** and select the first variable\n",
    "* Try **each valid value** in order and start a recursive search\n",
    "* **Copy the `assignment`** before making any changes\n",
    "\n",
    "</details>\n"
   ]
  },
  {
   "cell_type": "code",
   "execution_count": null,
   "id": "72e25334",
   "metadata": {},
   "outputs": [],
   "source": [
    "def backtrack_search(board: HashiwokakeroBoard, assignment: Assignment,\n",
    "                    timeout_time: float) -> Tuple[bool, Assignment]:\n",
    "\n",
    "    if time.time() > timeout_time:\n",
    "        return False, assignment\n",
    "\n",
    "    # TODO: Implement Backtracking Search\n",
    "\n",
    "    return False, assignment  \n"
   ]
  },
  {
   "cell_type": "markdown",
   "id": "8fc4f184",
   "metadata": {},
   "source": [
    "#### Test for 02.2.2"
   ]
  },
  {
   "cell_type": "code",
   "execution_count": null,
   "id": "a7fe0a75",
   "metadata": {},
   "outputs": [],
   "source": [
    "def test_backtrack_search():\n",
    "        \n",
    "    island1 = Island(0, 0, 2)\n",
    "    island2 = Island(0, 1, 1) \n",
    "    island3 = Island(1, 0, 1)\n",
    "    board = HashiwokakeroBoard(islands=[island1, island2, island3])\n",
    "    \n",
    "    assignment: Assignment = {\n",
    "        (island1, island2): None,\n",
    "        (island1, island3): None\n",
    "    }\n",
    "    timeout_time = time.time() + 10\n",
    "\n",
    "    success, final_assignment = backtrack_search(board, assignment, timeout_time)\n",
    "    print(f\"Search successful: {success}\")\n",
    "    print(f\"Final assignment:\")\n",
    "    pprint(final_assignment)\n",
    "    print(\"✓ Test completed - check if backtracking logic works\")\n",
    "\n",
    "test_backtrack_search()"
   ]
  },
  {
   "cell_type": "markdown",
   "id": "03edd3f1",
   "metadata": {},
   "source": [
    "### **(02.2.3)** Main Solving Function\n",
    "\n",
    "*For <mark>3</mark> points*\n",
    "\n",
    "Implement the function `solve_hashiwokakero`, which orchestrates the entire CSP solver. This function should call all previously implemented functions and apply the solution to the game board if one is found.\n",
    "\n",
    "<details>\n",
    "<summary>Hints</summary>\n",
    "\n",
    "* **Create an initial assignment where all variables are unassigned**, using the helper function `board.find_potential_connections()`\n",
    "* **Set a timeout** after which the solver should stop to avoid an endless search (e.g., 60 seconds)\n",
    "* **Call the function `backtrack_search`**, passing the initial assignment and the maximum runtime\n",
    "* **If a solution is found, apply it to the game board** using the function `apply_assignment_to_board`\n",
    "\n",
    "</details>\n"
   ]
  },
  {
   "cell_type": "code",
   "execution_count": null,
   "id": "af0f8558",
   "metadata": {},
   "outputs": [],
   "source": [
    "def solve_hashiwokakero(board: HashiwokakeroBoard) -> bool:\n",
    "\n",
    "    print(\"Starting CSP solver...\")\n",
    "    # TODO: Implement the CSP orchestration and apply the solution to the board if one is found\n",
    "    return False\n"
   ]
  },
  {
   "cell_type": "markdown",
   "id": "fd4622b5",
   "metadata": {},
   "source": [
    "#### Test for task 02.2.3"
   ]
  },
  {
   "cell_type": "markdown",
   "id": "46a1866d",
   "metadata": {},
   "source": [
    "The following game board is used for the test call:\n",
    "\n",
    "\n",
    "![](https://upload.wikimedia.org/wikipedia/commons/d/d9/Ejemplo_hashiwokakero_5x5.PNG)"
   ]
  },
  {
   "cell_type": "code",
   "execution_count": null,
   "id": "4c843b92",
   "metadata": {},
   "outputs": [],
   "source": [
    "def test_solve_hashiwokakero(verbose=True):\n",
    "    \"\"\"Test der Hauptlösungsfunktion\"\"\"\n",
    "    if verbose:\n",
    "        print(\"=== Test: Main Solver Function ===\")\n",
    "\n",
    "    # Simple setup without pygame\n",
    "\n",
    "    board = HashiwokakeroBoard.from_tuple_definition(\n",
    "        [\n",
    "            (0, 0, 1),\n",
    "            (0, 1, 2),\n",
    "            (0, 2, 1),\n",
    "            (1, 0, 3),\n",
    "            (1, 1, 8),\n",
    "            (1, 2, 5),\n",
    "            (2, 0, 2),\n",
    "            (2, 1, 6),\n",
    "            (2, 2, 4)\n",
    "        ],\n",
    "        grid_size=3\n",
    "    )\n",
    "\n",
    "    success = solve_hashiwokakero(board)\n",
    "\n",
    "    print(f\"Solver completed: {success}\")\n",
    "    print(f\"Final bridges:\")\n",
    "    pprint(board.bridges)\n",
    "    print(\"✓ Test completed - check if main solver coordinates all functions\")\n",
    "    print()\n",
    "\n",
    "\n",
    "test_solve_hashiwokakero()"
   ]
  },
  {
   "cell_type": "markdown",
   "id": "8a676dfd",
   "metadata": {},
   "source": [
    "### Game Launch\n",
    "\n",
    "Now that you have completed the implementation of the CSP solver, you can launch the game and solve the puzzles automatically!\n",
    "\n",
    "#### Controls:\n",
    "\n",
    "* Press **'S'** to solve the current puzzle\n",
    "* Press **'R'** to reset the puzzle\n",
    "* Press **'1'**, **'2'**, **'3'** to load different puzzles\n"
   ]
  },
  {
   "cell_type": "code",
   "execution_count": null,
   "id": "bdb1a9c6",
   "metadata": {},
   "outputs": [],
   "source": [
    "def main():\n",
    "    \"\"\"\n",
    "    Vereinfachte Hauptfunktion für Spielausführung\n",
    "    \"\"\"\n",
    "    # Spiel erstellen\n",
    "    game = HashiwokakeroGameEngine(solve=solve_hashiwokakero)\n",
    "\n",
    "    print(\"=== Hashiwokakero CSP Solver ===\")\n",
    "    print(\"Controls:\")\n",
    "    print(\"- Press 'S' to solve current puzzle\")\n",
    "    print(\"- Press 'R' to reset puzzle\")\n",
    "    print(\"- Press '1' to load puzzle 1\")\n",
    "    print(\"- Press '2' to load puzzle 2\")\n",
    "    print(\"- Press '3' to load puzzle 3\")\n",
    "    print(\"- Press ESC or close window to quit\")\n",
    "    print()\n",
    "    \n",
    "    game.run()\n",
    "\n",
    "\n",
    "main()"
   ]
  },
  {
   "cell_type": "markdown",
   "id": "8958c2e4",
   "metadata": {},
   "source": [
    "### **(02.2.4)** Weaknesses of the Implementation\n",
    "\n",
    "*For <mark>4</mark> points*\n",
    "\n",
    "In this entire exercise, we implemented a basic CSP solver for the Hashiwokakero puzzle. However, the implementation is not necessarily optimal and can be inefficient in some cases. You’ll likely notice this when trying to solve `puzzle3`.\n",
    "\n",
    "Name **two** possible weaknesses of the implementation and propose solutions to address them.\n"
   ]
  },
  {
   "cell_type": "markdown",
   "id": "ceb3e4bf",
   "metadata": {},
   "source": [
    "> Enter your answer here"
   ]
  },
  {
   "cell_type": "markdown",
   "id": "e9a57a2b",
   "metadata": {},
   "source": [
    "> "
   ]
  }
 ],
 "metadata": {
  "kernelspec": {
   "display_name": ".venv",
   "language": "python",
   "name": "python3"
  },
  "language_info": {
   "codemirror_mode": {
    "name": "ipython",
    "version": 3
   },
   "file_extension": ".py",
   "mimetype": "text/x-python",
   "name": "python",
   "nbconvert_exporter": "python",
   "pygments_lexer": "ipython3",
   "version": "3.12.10"
  }
 },
 "nbformat": 4,
 "nbformat_minor": 5
}
