{
 "cells": [
  {
   "cell_type": "markdown",
   "id": "e9d8d984",
   "metadata": {},
   "source": [
    "<img src=\"images/logo.png\" width=\"200\">"
   ]
  },
  {
   "cell_type": "markdown",
   "id": "501d2007",
   "metadata": {},
   "source": [
    "# KogSys-KI-B - Assignment 2\n",
    "\n",
    "### Adversarial Search, Constraint Satisfaction Problems\n",
    "\n",
    "_Abgabefrist: **15.06.2025**_\n",
    "\n",
    "---\n",
    "\n"
   ]
  },
  {
   "cell_type": "markdown",
   "id": "0d509b94",
   "metadata": {},
   "source": [
    "#### Submission Information\n",
    "\n",
    "Upload your solution via the VC course. Please upload **one Zip** archive per group. This must contain:\n",
    "\n",
    "- Your solution as **Notebook** (a `.inpynb` file)\n",
    "- A folder named **images** with all your images, if you used any (keep the image sizes relatively small)\n",
    "\n",
    "Your Zip file should be named as follows:\n",
    "\n",
    "```\n",
    "assignment_<assignment number>_solution_<group number>.zip\n",
    "```\n",
    "\n",
    "In this assignment, you can achieve a total of **30** points. From these points, **3 bonus points** for the exam will be calculated as follows:\n",
    "\n",
    "| **Points in Assignment** | **Bonus Points for Exam** |\n",
    "| :----------------------: | :-----------------------: |\n",
    "|            30            |             3             |\n",
    "|            25            |            2.5            |\n",
    "|            20            |             2             |\n",
    "|            15            |            1.5            |\n",
    "|            10            |             1             |\n",
    "|            5             |            0.5            |"
   ]
  },
  {
   "cell_type": "markdown",
   "id": "bcda2051",
   "metadata": {},
   "source": [
    "<div class='alert alert-block alert-danger'>\n",
    "\n",
    "##### **Important Notes**\n",
    "\n",
    "1. **This assignment is graded. You can earn bonus points for the exam.**\n",
    "2. **If it is evident that an assignment was copied from another source and no independent work was done, no bonus points will be awarded. Please formulate all answers in your own words!**\n",
    "3. **If LLMs (such as ChatGPT or Copilot) were used to create your submission, please indicate this in accordance with common scientific practices. See also the [AI Policy in the VC Course](https://vc.uni-bamberg.de/mod/page/view.php?id=1980835)**"
   ]
  },
  {
   "cell_type": "markdown",
   "id": "56daf129",
   "metadata": {},
   "source": [
    "### Setup"
   ]
  },
  {
   "cell_type": "markdown",
   "id": "08f434fa",
   "metadata": {},
   "source": [
    "To setup your assignment, you need to install the required dependencies, specified in `requirements.txt`. You can do this by executing the following code cell."
   ]
  },
  {
   "cell_type": "code",
   "execution_count": null,
   "id": "1486ca3b",
   "metadata": {},
   "outputs": [],
   "source": [
    "# Installiert die benötigten Pakete mit dem akutell ausgewählten Python-Interpreter\n",
    "%pip install -U -r requirements.txt"
   ]
  },
  {
   "cell_type": "markdown",
   "id": "f6df4873",
   "metadata": {},
   "source": [
    "## Task 1 | Adversarial Search with the example \"Connect Four\"\n",
    "\n",
    "_For totally <mark>15</mark> points_\n",
    "\n",
    "In this task we want to play [Connect Four](https://en.wikipedia.org/wiki/Connect_Four) against our computer. For this purpose, an algorithm for _Adversarial Games_ known from the lecture is to be implemented.\n",
    "\n",
    "However, consider and understand the given code first!"
   ]
  },
  {
   "cell_type": "markdown",
   "id": "ef200016",
   "metadata": {},
   "source": [
    "#### Library imports"
   ]
  },
  {
   "cell_type": "markdown",
   "id": "221be084",
   "metadata": {},
   "source": [
    "The following library imports may be used throughout this task. Do not use any third-party libraries\n",
    "\n",
    "- `dataclasses.dataclass`: Simple creation of immutable classes.\n",
    "- `dataclasses.field`: Use functions to set default values for `@dataclasses`.\n",
    "- `random`: Generate random numbers.\n",
    "- `typing.List`: Is used for type annotations in the method specifications.\n",
    "- `connect4.Player` and `connect4.GameEngine`: Imports the code given by us for the game logic and Display. This code does not have to be understood.\n",
    "\n",
    "**_Nothing needs to be changed in the next code cell._**"
   ]
  },
  {
   "cell_type": "code",
   "execution_count": null,
   "id": "563206ab",
   "metadata": {},
   "outputs": [],
   "source": [
    "# Python Core libraries\n",
    "from dataclasses import dataclass, field\n",
    "import random\n",
    "from typing import List, Optional\n",
    "\n",
    "# Connect4 Game Engine\n",
    "from connect4 import Player, Connect4GameEngine, BoardType"
   ]
  },
  {
   "cell_type": "markdown",
   "id": "224e195b",
   "metadata": {},
   "source": [
    "#### Creating the Game Board"
   ]
  },
  {
   "cell_type": "markdown",
   "id": "d1d9fdbc",
   "metadata": {},
   "source": [
    "In the following, we define a function and two constants that allow us to create our playing field as a two-dimensional list.\n",
    "Thus we have a matrix of the form:\n",
    "\n",
    "```python\n",
    "[\n",
    "# Spalte  0     1     2     3     4     5     6  \n",
    "        [None, None, None, None, None, None, None],  # Zeile 0\n",
    "        [None, None, None, None, None, None, None],  # Zeile 1\n",
    "        [None, None, None, None, None, None, None],  # Zeile 2\n",
    "        [None, None, None, None, None, None, None],  # Zeile 3\n",
    "        [None, None, None, None, None, None, None],  # Zeile 4\n",
    "        [None, None, None, None, None, None, None]   # Zeile 5\n",
    "]\n",
    "```\n",
    "\n",
    "***Nothing needs to be changed in the next code cell.***"
   ]
  },
  {
   "cell_type": "code",
   "execution_count": null,
   "id": "07df28ff",
   "metadata": {},
   "outputs": [],
   "source": [
    "# The size of the game grid.\n",
    "GRID_ROWS = 6\n",
    "GRID_COLUMNS = 7\n",
    "\n",
    "\n",
    "def create_grid() -> List[List[Optional[Player]]]:\n",
    "    \"\"\"\n",
    "    Create a new grid of the correct size.\n",
    "\n",
    "    :returns grid: The new grid.\n",
    "    \"\"\"\n",
    "    return [[None] * GRID_COLUMNS for _ in range(GRID_ROWS)]"
   ]
  },
  {
   "cell_type": "markdown",
   "id": "a94aab5e",
   "metadata": {},
   "source": [
    "### **(02.1.1)** Game Board Logic\n",
    "\n",
    "_For <mark>3</mark> points_"
   ]
  },
  {
   "cell_type": "markdown",
   "id": "21f626dc",
   "metadata": {},
   "source": [
    "Now that we know how to save the game board, we want to implement the Logic in a class. We have already given you the skeleton. Your task now is to implement the three missing methods `valid_moves`, `get_winner` and `is_game_over`. Of course, you may also implement other functions, but you may not change the predefined function `drop_in_column`!\n",
    "\n",
    "##### Method `valid_moves`\n",
    "\n",
    "This method should return a list of all columns into which a tile can currently still be thrown. Don't forget that our playing field works with a _Zero-Index_!\n",
    "\n",
    "##### Method `is_game_over`\n",
    "This method is intended to check whether the game is over, either because there is already a winner or because no more moves are possible.\n",
    "\n",
    "##### Method `get_winner`\n",
    "\n",
    "This method should return the winner of the current game, or `None` if there is no winner yet or a tie.\n",
    "\n",
    "<details>\n",
    "\n",
    "<summary>Hint</summary>\n",
    "\n",
    "A new help function can make your work easier!\n",
    "\n",
    "</details>\n"
   ]
  },
  {
   "cell_type": "code",
   "execution_count": null,
   "id": "be12b315",
   "metadata": {},
   "outputs": [],
   "source": [
    "@dataclass(frozen=True)\n",
    "class Board(BoardType):\n",
    "    \"\"\"The game board.\"\"\"\n",
    "\n",
    "    grid: List[List[Optional[Player]]] = field(default_factory=create_grid)\n",
    "\n",
    "    def drop_in_column(self, player: Player, column: int) -> \"Board\":\n",
    "        \"\"\"\n",
    "        Drop a disc for the given player in the given column.\n",
    "\n",
    "        :param player: The player who should drop a disk.\n",
    "        :param column: The column in which to drop a disk.\n",
    "        :returns board: The resulting board.\n",
    "        \"\"\"\n",
    "        for row in reversed(range(len(self.grid))):\n",
    "            if not self.grid[row][column]:\n",
    "                new_grid = [list(r) for r in self.grid]\n",
    "\n",
    "                new_grid[row][column] = player\n",
    "\n",
    "                return Board(grid=new_grid)\n",
    "\n",
    "        raise ValueError(f\"Could not drop in '{column}' for '{player.name}', is it full?\")\n",
    "\n",
    "    def valid_moves(self) -> List[int]:\n",
    "        \"\"\"\n",
    "        Get all columns in which a disc can be dropped.\n",
    "        \n",
    "        :returns valid_moves: columns in which a disc can be dropped.\n",
    "        \"\"\"\n",
    "        return [] # TODO Implement\n",
    "    \n",
    "    def is_game_over(self) -> bool:\n",
    "        \"\"\"\n",
    "        Determine if the game is over.\n",
    "\n",
    "        :returns over: If the game is over.\n",
    "        \"\"\"\n",
    "        return False # TODO Implement\n",
    "\n",
    "    def get_winner(self) -> Optional[Player]:\n",
    "        \"\"\"\n",
    "        Get the currently winning player.\n",
    "\n",
    "        :returns winner: The currently winning player or None if there is no winner (game not over / tie).\n",
    "        \"\"\"\n",
    "        return None # TODO Implement\n"
   ]
  },
  {
   "cell_type": "markdown",
   "id": "dfea0c1d",
   "metadata": {},
   "source": [
    "#### **(02.1.2)** AI Opponent\n",
    "\n",
    "_For <mark>12</mark> points_\n",
    "\n",
    "Now that we have a functional game board, we should focus on building an opponent.\n",
    "\n",
    "The current implementation of `ai_next_move` chooses a random allowed column, but this makes the opponent quite easy to defeat. Therefore, implement an algorithm _from the lecture_ of your choice. Don't forget that the columns also work with a _zero index_, i.e. if a token is to be thrown in column 1, your function must return `0`.\n",
    "\n",
    "Of course you can also define further functions.\n",
    "\n",
    "**Important:** `Connect 4` may not solvable performant with some of the algorithms from the lecture. Make appropriate adjustments to your implementation to get results faster. Your implementation must be able to return a move **in less than 30 seconds**.\n",
    "\n",
    "Please explain your approach and additional adjustments.\n",
    " \n",
    "<details>\n",
    "\n",
    "<summary>Hints</summary>\n",
    "\n",
    "\n",
    "In addition to the playing field, you receive the `ai_player` in the function, which should make a good move. You also receive the `opponent`, for whom the move should be bad.\n",
    "\n",
    "These players are stored in the `grid` of the `board`, i.e. if `board.grid[0][0] == ai_player`, the AI player has a token in the upper left field.\n",
    "\n",
    "A possible adjustment is to pass an additional argument `depth` to the algorithm, which limits the recursion depth. Select a sensible value for this.\n",
    "\n",
    "When your algorithm is depth limited, how do you decide the score in a non-final state?\n",
    "\n",
    "</details>"
   ]
  },
  {
   "cell_type": "markdown",
   "id": "293a3293",
   "metadata": {},
   "source": [
    "> \n",
    "> Please enter your answer here.\n",
    "> "
   ]
  },
  {
   "cell_type": "code",
   "execution_count": null,
   "id": "585d3959",
   "metadata": {},
   "outputs": [],
   "source": [
    "def ai_next_move(board: BoardType, ai_player: Player, opponent: Player) -> int:\n",
    "    \"\"\"\n",
    "    Get the next column the AI should put a disk in.\n",
    "\n",
    "    :param ai_player: The instance of the AI player.\n",
    "    :param opponent: The instance of the other player.\n",
    "    :param board: The current game board.\n",
    "    :returns column: The column in which to put a disk. This is zero indexed from left to right!\n",
    "    \"\"\"\n",
    "    valid_moves = board.valid_moves()\n",
    "\n",
    "    # You can safely assume there are possible moves.\n",
    "    assert len(valid_moves) > 0, \"No moves possible.\"\n",
    "\n",
    "    print(f\"{ai_player.name} is chosing a random  field...\")\n",
    "    return random.choice(valid_moves)"
   ]
  },
  {
   "cell_type": "markdown",
   "id": "c5ec71de",
   "metadata": {},
   "source": [
    "### Playing\n",
    "\n",
    "Now you can test your algorithm - and play Connect 4 against it. Execute the following two code cells to start the game. Of course, you can also customize the code cell, e.g. to add more players or swap players.\n",
    "\n",
    "<details>\n",
    "  <summary>Create and replace players</summary>\n",
    "\n",
    "  - **AI Player**: Create with `Player.ai(name=\"Name\", move=ai_next_move)`:\n",
    "    ```python\n",
    "    AI_PLAYER_1 = Player.ai(name=\"AI 1\", move=ai_next_move)\n",
    "    ```\n",
    "\n",
    "    The function `ai_next_move` can of course also be replaced by another function, it just has to have the correct signature as specified by `ai_next_move`.\n",
    "\n",
    "  - **Human Player**: Create with `Player.human(name=\"Name\")`:\n",
    "    ```python\n",
    "    HUMAN_PLAYER_1 = Player.human(name=\"Human 1\")\n",
    "    ```\n",
    "  - **Exchange players**: Change `player0` und `player1` in `GameEngine` creation:\n",
    "    ```python\n",
    "    game = GameEngine(board=Board(), player0=HUMAN_PLAYER_1, player1=AI_PLAYER_1)\n",
    "    ```\n",
    "\n",
    "</details>\n",
    "\n",
    "<details>\n",
    "  <summary>Replace the game board</summary>\n",
    "\n",
    "By default, the game starts with an empty board of the size `GRID_ROWS x GRID_COLUMNS`. If you want to test specific game situations, you can start with the prefilled `board` `EXAMPLE_BOARD`, simply replace the value for `board=` in the 2nd cell.\n",
    "\n",
    "_Of course, you can also change the `EXAMPLE_BOARD` or build further examples. To reduce the search space, you can also pass a smaller game board._\n",
    "\n",
    "</details>\n",
    "\n",
    "<br>\n",
    "\n",
    "<div class=\"alert-warning\" style=\"padding: 0.5rem\">\n",
    "The game will only work if you have completed task 02.1.1 correctly. Therefore, if you receive an error message, check whether your code is referenced anywhere in the stack trace!\n",
    "</div>\n"
   ]
  },
  {
   "cell_type": "code",
   "execution_count": null,
   "id": "b8ee1b71",
   "metadata": {},
   "outputs": [],
   "source": [
    "AI_PLAYER_1 = Player.ai(name=\"AI 1\", move=ai_next_move)\n",
    "AI_PLAYER_2 = Player.ai(name=\"AI 2\", move=ai_next_move)\n",
    "\n",
    "HUMAN_PLAYER_1 = Player.human(name=\"Human 1\")\n",
    "HUMAN_PLAYER_2 = Player.human(name=\"Human 2\")\n",
    "\n",
    "EMPTY_BOARD = Board()\n",
    "EXAMPLE_BOARD = Board(grid=[\n",
    "    [None,        None,           None,           None, None, None, None], \n",
    "    [None,        None,           None,           None, None, None, None], \n",
    "    [None,        None,           None,           None, None, None, None], \n",
    "    [None,        None,           HUMAN_PLAYER_1, None, None, None, None], \n",
    "    [None,        AI_PLAYER_1,    HUMAN_PLAYER_1, None, None, None, None],\n",
    "    [AI_PLAYER_1, HUMAN_PLAYER_1, AI_PLAYER_1,    None, None, None, None],\n",
    "])"
   ]
  },
  {
   "cell_type": "code",
   "execution_count": null,
   "id": "8635d547",
   "metadata": {},
   "outputs": [],
   "source": [
    "# You are allowed to change the values for \"board\", \"player0\" and \"player1\" so you can challenge algorithms against each other or to play with your friends!\n",
    "connect4 = Connect4GameEngine(\n",
    "    board=EMPTY_BOARD, \n",
    "    player0=HUMAN_PLAYER_1,\n",
    "    player1=AI_PLAYER_1\n",
    ")\n",
    "\n",
    "connect4.start()"
   ]
  },
  {
   "cell_type": "markdown",
   "id": "d2aec1c3",
   "metadata": {},
   "source": [
    "#### **(02.1.3, optional)** Connect 4 Tournament\n",
    "\n",
    "_For up to <mark>10 additional</mark> points_\n",
    "\n",
    "<details>\n",
    "<summary>Note on the additional points</summary>\n",
    "You can earn up to 10 additional points by submitting to the tournament. The additional points will be awarded based on the performance of your AI in the tournament.\n",
    "\n",
    "The points will be added to your total assignment score, but the maximum of 10 bonus points for the exam cannot be exceeded. This means that if you collected all 100 points from the assignments, this will not change anything. But if you only collected 80 points, you can get 9 bonus points for the exam.\n",
    "\n",
    "</details>\n",
    "\n",
    "The tournament will be held live on **June 17, 2025** during the practice session. To participate, you need to enter a team name in the following markdown cell. (Team name is used for anonymity and to make sure you want to participate.)\n",
    "\n",
    "The points will be awarded based on the performance of your AI in the tournament. The higher your win rate, the more points you will receive. The formula for calculating the points is as follows:\n",
    "\n",
    "```python\n",
    "Points_i = round(10 * (W_i / W_max))\n",
    "```\n",
    "where `W_i` is the win ratio of your AI agent and `W_max` is the best win ratio of all AI agents in the tournament.\n",
    "\n"
   ]
  },
  {
   "cell_type": "markdown",
   "id": "ea5ed8fb",
   "metadata": {},
   "source": [
    "> Team Name: `_________________________`"
   ]
  },
  {
   "cell_type": "markdown",
   "id": "7439841f",
   "metadata": {},
   "source": [
    "## Task 2 - Constraint Satisfaction Problems (CSP) with the example \"Hashiwokakero\"\n",
    "\n",
    "_For totally <mark>15</mark> points_\n",
    "\n",
    "<div class=\"alert-warning\" style=\"padding: 0.5rem\">\n",
    "\n",
    "This task is implemented in the separate file `assignment_2_task_2_german.ipynb`.\n",
    "\n",
    "</div>\n",
    "\n",
    "This task implements a **Constraint Satisfaction Problem (CSP) solver** for the [Hashiwokakero puzzle game](https://en.wikipedia.org/wiki/Hashiwokakero). Your task is to complete the CSP solver implementation.\n",
    "\n",
    "You can try playing the game here: https://www.hashi.info/.\n",
    "\n",
    "## CSP formulation:\n",
    "* **Variables (X)**: Potential bridges between neighboring islands\n",
    "* **Domains (D)**: Number of bridges (0, 1, or 2) between pairs of islands\n",
    "* **Constraints (C)**:\n",
    "  - Each island must have exactly the number of bridges indicated by its value\n",
    "  - Bridges cannot cross each other\n",
    "  - Bridges can only run horizontally or vertically\n",
    "  - All islands must be connected to form a connected graph"
   ]
  }
 ],
 "metadata": {
  "kernelspec": {
   "display_name": ".venv",
   "language": "python",
   "name": "python3"
  },
  "language_info": {
   "codemirror_mode": {
    "name": "ipython",
    "version": 3
   },
   "file_extension": ".py",
   "mimetype": "text/x-python",
   "name": "python",
   "nbconvert_exporter": "python",
   "pygments_lexer": "ipython3",
   "version": "3.12.10"
  }
 },
 "nbformat": 4,
 "nbformat_minor": 5
}
